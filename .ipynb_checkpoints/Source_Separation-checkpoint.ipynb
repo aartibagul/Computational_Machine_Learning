{
 "cells": [
  {
   "cell_type": "code",
   "execution_count": 102,
   "metadata": {
    "collapsed": true
   },
   "outputs": [],
   "source": [
    "%matplotlib inline\n",
    "import numpy as np\n",
    "import random\n",
    "from __future__ import division\n",
    "import wave, struct, numpy as np, matplotlib.mlab as mlab, pylab as pl\n",
    "import matplotlib.pyplot as plt\n",
    "import gc"
   ]
  },
  {
   "cell_type": "code",
   "execution_count": 103,
   "metadata": {
    "collapsed": false
   },
   "outputs": [
    {
     "data": {
      "image/png": "[encoded data removed]",
      "text/plain": [
       "<matplotlib.figure.Figure at 0x10992c490>"
      ]
     },
     "metadata": {},
     "output_type": "display_data"
    }
   ],
   "source": [
    "filename = \"CML_Recording_Both.wav\"\n",
    "w = wave.open(filename,\"rb\")\n",
    "\n",
    "#returns a named tuple (nchannels, sampwidth, framerate, \n",
    "# nframes, comptype, compname)\n",
    "waveParams = w.getparams()\n",
    "\n",
    "s = w.readframes(waveParams[3])\n",
    "w.close()\n",
    "waveArray = np.fromstring(s, np.int16)\n",
    "\n",
    "pl.figure()\n",
    "pl.plot(waveArray)\n",
    "\n",
    "spectrum, freq, bins = mlab.specgram(waveArray, NFFT=256,Fs=waveParams[2],sides='onesided')\n"
   ]
  },
  {
   "cell_type": "code",
   "execution_count": 104,
   "metadata": {
    "collapsed": true
   },
   "outputs": [],
   "source": [
    "# returns bit array of .wav file, and framerate\n",
    "def get_wave(filename):\n",
    "    w = wave.open(filename,\"rb\")\n",
    "    waveParams = w.getparams()\n",
    "    s = w.readframes(waveParams[3])\n",
    "    w.close()\n",
    "    waveArray = np.fromstring(s, np.int16)\n",
    "    return waveArray, waveParams[2]\n",
    "\n",
    "# returns wave array of one track of stereo .wav file\n",
    "def get_wave_stereo(filename):\n",
    "    rate, data = wavfile.read(filename)\n",
    "    # only get speaker values of one side\n",
    "    data = data[:,0]\n",
    "    return data, rate\n",
    "\n",
    "# power spectrogram is the absolute value SQUARED of the stft\n",
    "def get_spectrogram(stft):\n",
    "    stft[0,:] = stft[0,:]/2\n",
    "    return 4*np.square(np.absolute(stft))\n",
    "\n",
    "# takes in wave file as input\n",
    "# win_size is the length of the window in samples\n",
    "# overlap is the amount of overlap between windows in samples\n",
    "def my_stft(wave, win_size, overlap):\n",
    "    # power sinbell analysis window\n",
    "    win = sinebell(win_size, overlap)\n",
    "    # make the frames\n",
    "    frames, wave_pad = make_frames(wave, win, overlap)\n",
    "    # fft, for each column\n",
    "    stft = np.fft.fft(frames, axis = 0)\n",
    "    # keep the spectrum associated with the positive frequencies (potentially times to the upper frequencies)\n",
    "    if len(win)%2 == 0:\n",
    "        stft = stft[:int(len(win)/2)+1]\n",
    "    else:\n",
    "        stft = stft[:int((len(win)+1)/2)]\n",
    "    return stft, wave_pad\n",
    "    \n",
    "# create sinebell window of length win_size, with overlap, DONE\n",
    "def sinebell(win_size, overlap):\n",
    "    win = np.zeros(win_size)\n",
    "    win[0:overlap] = np.sin( math.pi * (np.array([i for i in range(overlap)])) / (2*(overlap-1)) )\n",
    "    win[overlap : win_size - overlap] = 1\n",
    "    win[win_size - overlap:] = np.sin( math.pi * (win_size - np.array([i for i in range(win_size-overlap, win_size)]) - 1 ) / (2*(overlap - 1)) )\n",
    "    return win\n",
    "\n",
    "# computes sinebell window with smooth edges, this should be an improvement\n",
    "def power_sinebell(win_size, overlap):\n",
    "    win = np.zeros(win_size)\n",
    "    win[0:overlap] = np.sin( math.pi * (np.array([i for i in range(overlap)])) / (2*(overlap-1)) )**2\n",
    "    win[overlap : win_size - overlap] = 1\n",
    "    win[win_size - overlap:] = np.sin( math.pi * (win_size - np.array([i for i in range(win_size-overlap, win_size)]) - 1 ) / (2*(overlap - 1)) )**2\n",
    "    return win\n",
    "\n",
    "# x is the input signal, win is the analysis window, overlap\n",
    "# returns frame matrix and padded input signal x_pad\n",
    "def make_frames(x, win, overlap):\n",
    "    win_len = win.shape[0]\n",
    "    x_len = len(x)\n",
    "    \n",
    "    # number of frames\n",
    "    num_frames = int(np.ceil((x_len + overlap)/(win_len - overlap)))\n",
    "    \n",
    "    # initializing zero padded signal\n",
    "    pad_len = int(overlap + num_frames * (win_len - overlap))\n",
    "    x_pad = np.zeros(pad_len)\n",
    "    x_pad[overlap: overlap + x_len] = x\n",
    "    \n",
    "    # index of beginning of each frame in x_pad\n",
    "    frame_ind = np.array([i for i in range(num_frames)]) * (win_len - overlap)\n",
    "    \n",
    "    # initialize frames matrix\n",
    "    frames = np.zeros((win_size, num_frames))\n",
    "    for i in range(num_frames):\n",
    "        frames[:,i] = (x_pad[frame_ind[i] : frame_ind[i] + win_size] * win)\n",
    "    \n",
    "    return frames, x_pad\n",
    "    \n",
    "def my_istft(stft, win_size, overlap):\n",
    "    # power sinbell analysis window\n",
    "    win = sinebell(win_size, overlap)\n",
    "    (num_coeff, num_frames) = stft.shape\n",
    "    \n",
    "    # recover full stft by conjugate symmetry of the fourier expansion of real signals\n",
    "    stft_full = np.zeros((win_size, num_frames), dtype = np.complex128)\n",
    "    stft_full[:num_coeff,:] = stft\n",
    "    \n",
    "    # reasoning: stft[ num_coeff - 1] is the both the negative and positive Nyquist frequency if win_size is even\n",
    "    # thus, we take the conjugate only of stft[ num_coeff - 2:0:-1 ]\n",
    "    if win_size%2 == 0:\n",
    "        stft_full[num_coeff:, :] = np.conj(stft[num_coeff-2:0:-1, :])\n",
    "    else:\n",
    "        stft_full[num_coeff:,:] = np.conj(stft[num_coeff-1:0:-1, :])\n",
    "        \n",
    "    # take inverse fft of recovered stft\n",
    "    istft = np.fft.ifft(stft_full, axis = 0)\n",
    "    # reconstruct padded signal by taking overlap into account\n",
    "    x_pad = overlap_add(istft, win_size, overlap)\n",
    "    return x_pad\n",
    "\n",
    "def overlap_add(signal, win_size, overlap):\n",
    "    \n",
    "    win = sinebell(win_size, overlap)\n",
    "    (temp, num_frames) = signal.shape\n",
    "\n",
    "    if temp != win_size:\n",
    "        print(\"Dimensions of ISTFT are wrong!\")\n",
    "    \n",
    "    pad_len = overlap + num_frames * (win_size - overlap)\n",
    "    x_pad = np.zeros(pad_len, dtype = np.complex128)\n",
    "    \n",
    "     # index of beginning of each frame in x_pad\n",
    "    frame_ind = np.array([i for i in range(num_frames)]) * (win_size - overlap)\n",
    "    \n",
    "    # do we really need the window again here?\n",
    "    x_pad[frame_ind[0]:frame_ind[0] + win_size] = signal[:,0] * win\n",
    "    for i in range(1,num_frames):\n",
    "        x_pad[frame_ind[i]:frame_ind[i] + win_size] = x_pad[frame_ind[i]:frame_ind[i] + win_size] + signal[:,i] * win\n",
    "    return x_pad\n"
   ]
  },
  {
   "cell_type": "code",
   "execution_count": 105,
   "metadata": {
    "collapsed": false
   },
   "outputs": [
    {
     "data": {
      "text/plain": [
       "'\\ndef compute_obj(v,W,h,eps):\\n    whv = (np.dot(W,h) + eps)/(v + eps)\\n    div = whv - np.log(whv) - 1 \\n    div = np.array(div)\\n    #print(div.shape)\\n    return np.sum( div )\\n\\n# epsilon divergence gradient\\ndef compute_grad(v,W,h,eps):\\n    grad = np.dot(W.T, (1/(v + eps) - 1/(np.dot(W,h) + eps)))\\n    return grad\\n'"
      ]
     },
     "execution_count": 105,
     "metadata": {},
     "output_type": "execute_result"
    }
   ],
   "source": [
    "# OLD OBJECTIVES\n",
    "'''\n",
    "def compute_obj(v,W,h,eps):\n",
    "    whv = (np.dot(W,h) + eps)/(v + eps)\n",
    "    div = whv - np.log(whv) - 1 \n",
    "    div = np.array(div)\n",
    "    #print(div.shape)\n",
    "    return np.sum( div )\n",
    "\n",
    "# epsilon divergence gradient\n",
    "def compute_grad(v,W,h,eps):\n",
    "    grad = np.dot(W.T, (1/(v + eps) - 1/(np.dot(W,h) + eps)))\n",
    "    return grad\n",
    "'''"
   ]
  },
  {
   "cell_type": "code",
   "execution_count": 106,
   "metadata": {
    "collapsed": true
   },
   "outputs": [],
   "source": [
    "def compute_obj(v,W,h,eps):\n",
    "    vhw = (v + eps) / (np.dot(W,h) + eps)\n",
    "    div = vhw - np.log(vhw) - 1\n",
    "    return np.sum( div )\n",
    "\n",
    "def compute_grad(v,W,h,eps):\n",
    "    (F,K) = W.shape\n",
    "    grad = np.dot( ( 1 / (np.dot(W,h + eps)) - (v + eps) / (np.square(np.dot(W,h))) + eps).T , W )\n",
    "    return grad.T\n",
    "\n",
    "# important! \n",
    "# Not only do we need h = h_t but also h_m = h_(t-1) and h_p = h_(t+1)\n",
    "# lambda is the smoothness constant\n",
    "def compute_smooth_obj(v,W,h,h_m,h_p,lamb,eps):\n",
    "    \n",
    "    h = h.reshape(h.shape[0],1)\n",
    "    h_m = h_m.reshape(h_m.shape[0],1)\n",
    "    h_p = h_p.reshape(h_p.shape[0],1)\n",
    "    \n",
    "    # compute regular objective\n",
    "    # maybe doing this direct instead of the function call is faster:\n",
    "    # whv = (np.dot(W,h) + eps)/(v + eps)\n",
    "    # div = whv - np.log(whv) - 1 \n",
    "    div = compute_obj(v,W,h,eps)\n",
    "    \n",
    "    # compute smoothness terms with epsilon\n",
    "    s1 = (h + eps) / (h_m + eps)\n",
    "    s2 = (h + eps) / (h_p + eps)\n",
    "    sm = s1 - np.log(s1) - 1\n",
    "    sm += s2 - np.log(s2) - 1\n",
    "    # returning properly scaled smooth objective\n",
    "    return div + lamb * np.sum( sm )\n",
    "    \n",
    "# input parameters as above\n",
    "def compute_smooth_grad(v,W,h,h_m,h_p,lamb,eps):\n",
    "\n",
    "    # the famous reshape trio\n",
    "    h = h.reshape(h.shape[0],1)\n",
    "    h_m = h_m.reshape(h_m.shape[0],1)\n",
    "    h_p = h_p.reshape(h_p.shape[0],1)\n",
    "\n",
    "    # calculates gradient of regular divergence\n",
    "    div_grad = compute_grad(v,W,h,eps)\n",
    "\n",
    "    # calculating gradient of smoothness term\n",
    "    sm_grad = 1 / (h_m + eps) + 1 / (h_p + eps) - 2 / (h + eps)\n",
    "    sm_grad = sm_grad.reshape(sm_grad.shape[0],1)\n",
    "    \n",
    "    # returning properly scaled gradient of smooth objective \n",
    "    return div_grad + lamb * sm_grad"
   ]
  },
  {
   "cell_type": "code",
   "execution_count": 107,
   "metadata": {
    "collapsed": false
   },
   "outputs": [
    {
     "name": "stdout",
     "output_type": "stream",
     "text": [
      "[[ -28.02697957]\n",
      " [-304.91124449]]\n",
      "[[ -28.0269269]\n",
      " [-304.859037 ]]\n"
     ]
    }
   ],
   "source": [
    "def grad_checker(v, W, h):\n",
    "    eps = 1e-3\n",
    "    (f,k) = W.shape\n",
    "    t_grad = np.zeros(h.shape)\n",
    "    for i in range(k):\n",
    "        ei = np.zeros(h.shape)\n",
    "        ei[i] = eps\n",
    "        t_grad[i] = (compute_obj(v,W,h+ei, 1e-12) - compute_obj(v,W,h-ei,1e-12)) / (2*eps)\n",
    "    print(t_grad)\n",
    "    print(compute_grad(v,W,h,1e-12))\n",
    "grad_checker(np.random.rand(2,1), np.random.rand(2,2),np.random.rand(2, 1))"
   ]
  },
  {
   "cell_type": "code",
   "execution_count": 108,
   "metadata": {
    "collapsed": false
   },
   "outputs": [
    {
     "name": "stdout",
     "output_type": "stream",
     "text": [
      "[-369.38417387   -7.16973629]\n",
      "[[-369.30566923]\n",
      " [  -7.16973162]]\n"
     ]
    }
   ],
   "source": [
    "# second grad checker for smooth objective functions: Works!\n",
    "def grad_checker(v,W,H,ind_t,lamb,eps):\n",
    "    eps_dif = 1e-3\n",
    "    (f,k) = W.shape\n",
    "    t_grad = np.zeros(H[:,ind_t].shape)\n",
    "    \n",
    "    h = H[:,ind_t]\n",
    "    h_p = H[:, ind_t + 1]\n",
    "    h_m = H[:, ind_t - 1]\n",
    "    \n",
    "    h = h.reshape(h.shape[0],1)\n",
    "    t_m = h_m.reshape(h_m.shape[0],1)\n",
    "    h_p = h_p.reshape(h_p.shape[0],1)\n",
    "    \n",
    "    for i in range(k):\n",
    "        ei = np.zeros(h.shape)\n",
    "        ei[i] = eps_dif\n",
    "        t_grad[i] = (compute_smooth_obj(v,W,h + ei , h_m, h_p, lamb,eps) - compute_smooth_obj(v,W,h - ei, h_m, h_p, lamb,eps)) / (2*eps_dif)\n",
    "    print(t_grad)\n",
    "    print(compute_smooth_grad(v,W,h, h_m, h_p,lamb,eps))\n",
    "grad_checker(np.random.rand(2,1), np.random.rand(2,2),np.random.rand(2, 3),1,1,1e-12)"
   ]
  },
  {
   "cell_type": "code",
   "execution_count": 109,
   "metadata": {
    "collapsed": false
   },
   "outputs": [],
   "source": [
    "def gradient_backtracking(v, W, h, max_iter, compute_grad, compute_obj, eps):\n",
    "    \n",
    "    v = v.reshape(v.shape[0],1)\n",
    "    h = h.reshape(h.shape[0],1)\n",
    "\n",
    "    beta = 0.2 #backstep factor between 0.1 and 0.8\n",
    "    opt_prec = 1-1e-6 # optimization precision\n",
    "    eta = 1e-1 #initial step size\n",
    "    \n",
    "    #obj = [None]*max_iter\n",
    "    \n",
    "    max_backstep = 20 # maximum number of backsteps\n",
    "    t = 0 # backstepping counter\n",
    "    k = 0 # gradient step counter \n",
    "    \n",
    "    old_obj = compute_obj(v,W,h,eps)\n",
    "\n",
    "    while( k < max_iter and t != max_backstep ):\n",
    "        \n",
    "        grad = compute_grad(v,W,h,eps)\n",
    "        #obj[k] = compute_obj(v,W,h,eps)\n",
    "        \n",
    "        t = 0 # reset backstepping counter\n",
    "        eta = 1/beta*eta # try to increase stepsize slightly again\n",
    "        \n",
    "        # make sure h-n*grad is positive\n",
    "        while(any(h - eta * grad < 0)  and t < max_backstep ):\n",
    "            t += 1\n",
    "            eta = beta * eta\n",
    "    \n",
    "        new_obj = compute_obj(v,W,(h - eta*grad),eps)\n",
    "        \n",
    "        while( new_obj > opt_prec * old_obj and t < max_backstep):\n",
    "            t += 1\n",
    "            eta = beta * eta\n",
    "            new_obj = abs(compute_obj(v,W,(h - eta*grad),eps))\n",
    "                      \n",
    "        h = h - eta * grad # update h according to gradient step\n",
    "        k += 1 # update gradient step counter\n",
    "        old_obj = new_obj\n",
    "        \n",
    "    h = h.reshape(h.shape[0],)\n",
    "    return h\n",
    "\n",
    "h = gradient_backtracking(np.random.rand(10,1), np.random.rand(10,2),  np.random.rand(2, 1), 100, compute_grad, compute_obj, 1e-12)\n"
   ]
  },
  {
   "cell_type": "code",
   "execution_count": 110,
   "metadata": {
    "collapsed": false
   },
   "outputs": [],
   "source": [
    "#plt.plot([i for i in range(len(obj))], obj)"
   ]
  },
  {
   "cell_type": "code",
   "execution_count": 111,
   "metadata": {
    "collapsed": true
   },
   "outputs": [],
   "source": [
    "def online_nmf(spectrum, W, H,A, B, rho, beta, eta, eps):\n",
    "           \n",
    "    a = np.zeros(W.shape)\n",
    "    b = np.zeros(W.shape)\n",
    "    \n",
    "    t = 1\n",
    "    W_old = W + 1.5*eta\n",
    "    k = W.shape[1]\n",
    "    h = np.random.rand(W.shape[1],)\n",
    "    n = spectrum.shape[1]\n",
    "    cost = []\n",
    "    cost.append(compute_obj(spectrum,W,H,eps))\n",
    "    \n",
    "    while np.linalg.norm(W - W_old, ord = \"fro\") > eta:\n",
    "        \n",
    "        t = t+1 \n",
    "        \n",
    "        ind = random.randint(0, n-1)\n",
    "        v = spectrum[:,ind]\n",
    "    \n",
    "        h = gradient_backtracking(v, W, H[:,ind], 100, compute_grad, compute_obj, eps)\n",
    "        \n",
    "        H[:, ind] = h\n",
    "       \n",
    "        h = h.reshape(h.shape[0],1)\n",
    "        v = v.reshape(v.shape[0],1)\n",
    "        den = eps + np.dot(W, h)\n",
    "        \n",
    "        a += np.dot(((eps+v)/(den)**2), h.T) * np.square(W) \n",
    "        \n",
    "        b += np.dot(1/den, h.T)\n",
    "       \n",
    "        if t % beta == 0:\n",
    "            A = A + rho*a\n",
    "            a = 0\n",
    "            B = B + rho*b\n",
    "            b = 0\n",
    "            W_old = W\n",
    "            W = np.sqrt(A/B)\n",
    "            \n",
    "            for i in range(k):\n",
    "                s = np.sum(W[:,i])\n",
    "                W[:,i] = W[:,i]/s\n",
    "                A[:,i] = A[:,i]/s\n",
    "                B[:,i] = B[:,i]*s\n",
    "                #print(i)\n",
    "\n",
    "            #print(np.linalg.norm(compute_obj(spectrum,W_old,H,eps))- compute_obj(spectrum,W,H,eps)) \n",
    "            gc.disable()\n",
    "            cost.append(compute_obj(spectrum,W,H,eps))\n",
    "            gc.enable()\n",
    "            \n",
    "        #cost.append(compute_obj(spectrum,W,H,eps))\n",
    "        if t > 100*n:\n",
    "            print(\" W shape\" , W.shape)\n",
    "            break\n",
    "\n",
    "        #print(\"W\", np.linalg.norm(W[:,1]))\n",
    "        #print(\"H\", np.linalg.norm(H[1]))\n",
    "        #print(compute_obj(spectrum,W,H.T,eps))\n",
    "        \n",
    "    print(\"t\" , t)\n",
    "    print(cost[-1])\n",
    "    return W, H, cost\n"
   ]
  },
  {
   "cell_type": "code",
   "execution_count": 112,
   "metadata": {
    "collapsed": false
   },
   "outputs": [
    {
     "data": {
      "text/plain": [
       "9.9288495889693049"
      ]
     },
     "execution_count": 112,
     "metadata": {},
     "output_type": "execute_result"
    }
   ],
   "source": [
    "np.linalg.norm(spectrum[:,4])"
   ]
  },
  {
   "cell_type": "code",
   "execution_count": 46,
   "metadata": {
    "collapsed": false,
    "scrolled": true
   },
   "outputs": [
    {
     "name": "stdout",
     "output_type": "stream",
     "text": [
      "('t', 69500)\n",
      "7162502.0833\n"
     ]
    }
   ],
   "source": [
    "eps = 1e-12\n",
    "(F,N) = spectrum.shape\n",
    "K = 10\n",
    "W = abs(np.random.randn(F,K)) + np.ones((F,K))\n",
    "H = abs(np.random.randn(K,N)) + np.ones((K, N))\n",
    "\n",
    "A = np.zeros(W.shape)\n",
    "B = np.zeros(W.shape)\n",
    "\n",
    "r = 1\n",
    "beta = 100\n",
    "rho = r**(beta/spectrum.shape[1])\n",
    "\n",
    "# for profiling:\n",
    "#import cProfile\n",
    "#cProfile.run('online_nmf(spectrum, W, H, A, B, rho, beta, 1e-6, eps)')\n",
    "\n",
    "W, H, cost = online_nmf(spectrum, W, H, A, B, rho, beta, 1e-4, eps)\n"
   ]
  },
  {
   "cell_type": "code",
   "execution_count": null,
   "metadata": {
    "collapsed": false
   },
   "outputs": [],
   "source": [
    "import cProfile\n",
    "cProfile.run('online_nmf(spectrum, W, H, A, B, rho, beta, 1e-4, eps)')"
   ]
  },
  {
   "cell_type": "code",
   "execution_count": 278,
   "metadata": {
    "collapsed": false
   },
   "outputs": [],
   "source": [
    "change = []\n",
    "for i in range(1, len(cost)):\n",
    "    change.append(np.linalg.norm(cost[i]-cost[i-1]))"
   ]
  },
  {
   "cell_type": "code",
   "execution_count": 47,
   "metadata": {
    "collapsed": false,
    "scrolled": false
   },
   "outputs": [
    {
     "data": {
      "text/plain": [
       "[<matplotlib.lines.Line2D at 0x107717410>]"
      ]
     },
     "execution_count": 47,
     "metadata": {},
     "output_type": "execute_result"
    },
    {
     "data": {
      "image/png": "[encoded data removed]",
      "text/plain": [
       "<matplotlib.figure.Figure at 0x1078b8590>"
      ]
     },
     "metadata": {},
     "output_type": "display_data"
    }
   ],
   "source": [
    "plt.plot([i for i in range(len(cost[5:]))], cost[5:])"
   ]
  },
  {
   "cell_type": "code",
   "execution_count": 53,
   "metadata": {
    "collapsed": false
   },
   "outputs": [
    {
     "data": {
      "text/plain": [
       "[<matplotlib.lines.Line2D at 0x10c2f3710>]"
      ]
     },
     "execution_count": 53,
     "metadata": {},
     "output_type": "execute_result"
    },
    {
     "data": {
      "image/png": "[encoded data removed]",
      "text/plain": [
       "<matplotlib.figure.Figure at 0x10a8bd6d8>"
      ]
     },
     "metadata": {},
     "output_type": "display_data"
    }
   ],
   "source": [
    "plt.semilogy([i for i in range(len(cost))], cost)"
   ]
  },
  {
   "cell_type": "code",
   "execution_count": 141,
   "metadata": {
    "collapsed": false
   },
   "outputs": [
    {
     "data": {
      "text/plain": [
       "(129, 10)"
      ]
     },
     "execution_count": 141,
     "metadata": {},
     "output_type": "execute_result"
    }
   ],
   "source": [
    "W.shape"
   ]
  },
  {
   "cell_type": "code",
   "execution_count": 142,
   "metadata": {
    "collapsed": false
   },
   "outputs": [
    {
     "data": {
      "text/plain": [
       "(10, 11263)"
      ]
     },
     "execution_count": 142,
     "metadata": {},
     "output_type": "execute_result"
    }
   ],
   "source": [
    "H.shape"
   ]
  },
  {
   "cell_type": "code",
   "execution_count": 143,
   "metadata": {
    "collapsed": false
   },
   "outputs": [
    {
     "data": {
      "text/plain": [
       "(129, 11263)"
      ]
     },
     "execution_count": 143,
     "metadata": {},
     "output_type": "execute_result"
    }
   ],
   "source": [
    "spectrum.shape"
   ]
  },
  {
   "cell_type": "code",
   "execution_count": 113,
   "metadata": {
    "collapsed": false
   },
   "outputs": [],
   "source": [
    "def get_closest(x, centers):\n",
    "    distances = []\n",
    "    \n",
    "    #get the distance from the point(x) to every centroid\n",
    "    #and get the index of centroid that yields \n",
    "    #the minimum distance \n",
    "    \n",
    "    for mu in centers:\n",
    "        distances.append(np.linalg.norm(x-mu))\n",
    "    index = np.argmin(distances)\n",
    "    \n",
    "    return index, min(distances)\n",
    "\n",
    "def k_means_objective(X, k, C, centers):\n",
    "    \n",
    "    sum_distance = 0\n",
    "    for j in range(k):\n",
    "        for x in X[C==j]:\n",
    "            sum_distance += (np.linalg.norm(x-centers[j]))**2\n",
    "                \n",
    "    return sum_distance"
   ]
  },
  {
   "cell_type": "code",
   "execution_count": 114,
   "metadata": {
    "collapsed": false
   },
   "outputs": [],
   "source": [
    "def mini_batch(X, k, b, max_iter):\n",
    "    v = [0]*k\n",
    "    centers = [0]*k\n",
    "    \n",
    "    centers[0] = X[random.randint(0, len(X)-1)]\n",
    "\n",
    "    distortion = []\n",
    "    \n",
    "    for r in range(k-1):\n",
    "        x = random.random()\n",
    "        num_dx = (get_closest(X[0],centers)[1])**2\n",
    "        den_dx = 0\n",
    "        for x_i in X:\n",
    "            den_dx += (get_closest(x_i,centers)[1])**2\n",
    "        index = 0\n",
    "        while num_dx/den_dx < x:\n",
    "            \n",
    "            index += 1\n",
    "            num_dx += (get_closest(X[index],centers)[1])**2\n",
    "\n",
    "        centers[r+1] = X[index]\n",
    "    centers = np.array(centers)\n",
    "\n",
    "\n",
    "    for i in range(max_iter):\n",
    "        M = np.array(random.sample(list(X),b))\n",
    "        C=[0]*len(M)\n",
    "        for i,x in enumerate(M): \n",
    "            index = get_closest(x, centers)[0]\n",
    "            C[i] = index\n",
    "      \n",
    "        \n",
    "        for i, x in enumerate(M):\n",
    "            index = C[i]\n",
    "            v[index]+=1\n",
    "            n = 1/v[index]\n",
    "    \n",
    "            centers[index] = (1- n)*centers[index] + n*x\n",
    "        '''\n",
    "        D=[0]*len(X)\n",
    "        for i in range(len(X)): \n",
    "            index = get_closest(X[i], centers)[0]\n",
    "            D[i] = index\n",
    "        \n",
    "        D = np.array(D)\n",
    "        \n",
    "        distortion.append(k_means_objective(X, k, D, centers))\n",
    "        '''\n",
    "            \n",
    "    return centers"
   ]
  },
  {
   "cell_type": "code",
   "execution_count": 115,
   "metadata": {
    "collapsed": false
   },
   "outputs": [],
   "source": [
    "centers = mini_batch(spectrum.T, K,50, 100)\n",
    "centers = np.array(centers)\n",
    "W2 = centers.T"
   ]
  },
  {
   "cell_type": "code",
   "execution_count": null,
   "metadata": {
    "collapsed": true
   },
   "outputs": [],
   "source": [
    "import cProfile\n",
    "cProfile.run('mini_batch(spectrum.T, K, 100, 100)')"
   ]
  },
  {
   "cell_type": "code",
   "execution_count": 238,
   "metadata": {
    "collapsed": false
   },
   "outputs": [
    {
     "data": {
      "text/plain": [
       "[<matplotlib.lines.Line2D at 0x1154c2b50>]"
      ]
     },
     "execution_count": 238,
     "metadata": {},
     "output_type": "execute_result"
    },
    {
     "data": {
      "image/png": "[encoded data removed]",
      "text/plain": [
       "<matplotlib.figure.Figure at 0x116775cd0>"
      ]
     },
     "metadata": {},
     "output_type": "display_data"
    }
   ],
   "source": [
    "plt.plot([i for i in range(len(distortion))], distortion)"
   ]
  },
  {
   "cell_type": "code",
   "execution_count": 69,
   "metadata": {
    "collapsed": false
   },
   "outputs": [
    {
     "name": "stdout",
     "output_type": "stream",
     "text": [
      "('t', 1)\n",
      "nan\n"
     ]
    }
   ],
   "source": [
    "eps = 1e-12\n",
    "K = 10\n",
    "\n",
    "r = 1\n",
    "beta = 100\n",
    "rho = r**(beta/spectrum.shape[1])\n",
    "\n",
    "H2 = abs(np.random.randn(K,N)) + np.ones((K, N))\n",
    "A2 = np.zeros(W.shape)\n",
    "B2 = np.zeros(W.shape)\n",
    "\n",
    "W2, H2, cost2 = online_nmf(spectrum, W2, H2, A2, B2, rho, beta, 1e-4, eps)\n"
   ]
  },
  {
   "cell_type": "code",
   "execution_count": 64,
   "metadata": {
    "collapsed": false,
    "scrolled": false
   },
   "outputs": [
    {
     "name": "stdout",
     "output_type": "stream",
     "text": [
      "-11371884.5566\n"
     ]
    },
    {
     "data": {
      "image/png": "[encoded data removed]",
      "text/plain": [
       "<matplotlib.figure.Figure at 0x1098e6ad0>"
      ]
     },
     "metadata": {},
     "output_type": "display_data"
    }
   ],
   "source": [
    "plt.plot([i for i in range(len(cost))], cost, label = \"without k-means\")\n",
    "plt.plot([i for i in range(len(cost2))], cost2, label = \"with k-means\")\n",
    "plt.legend()\n",
    "print(cost[-1]-cost2[-1])"
   ]
  },
  {
   "cell_type": "code",
   "execution_count": 184,
   "metadata": {
    "collapsed": false
   },
   "outputs": [
    {
     "data": {
      "text/plain": [
       "27393387.803380556"
      ]
     },
     "execution_count": 184,
     "metadata": {},
     "output_type": "execute_result"
    }
   ],
   "source": [
    "compute_obj(spectrum,W2,H2,eps)"
   ]
  },
  {
   "cell_type": "code",
   "execution_count": 116,
   "metadata": {
    "collapsed": false
   },
   "outputs": [],
   "source": [
    "def gradient_backtracking_smooth(v, W, H, ind, max_iter, compute_smooth_grad, compute_smooth_obj, eps, lamb):\n",
    "\n",
    "    #TODO: handle edge cases\n",
    "    h = H[:,ind]\n",
    "    if ind > 1:\n",
    "        h_m = H[:,ind-1]\n",
    "    else:\n",
    "        h_m = np.zeros((W.shape[1],))\n",
    "        \n",
    "    if ind < W.shape[1]-1:\n",
    "        h_p = H[:,ind+1]\n",
    "    else:\n",
    "        h_p = np.zeros((W.shape[1],))\n",
    "    \n",
    "    v = v.reshape(v.shape[0],1)\n",
    "    h = h.reshape(h.shape[0],1)\n",
    "    h_m = h.reshape(h_m.shape[0],1)\n",
    "    h_p = h.reshape(h_p.shape[0],1)\n",
    "\n",
    "    beta = 0.2 #backstep factor between 0.1 and 0.8\n",
    "    opt_prec = 1-1e-6 # optimization precision\n",
    "    eta = 1e-1 #initial step size\n",
    "    \n",
    "    #obj = [None]*max_iter\n",
    "    \n",
    "    max_backstep = 20 # maximum number of backsteps\n",
    "    t = 0 # backstepping counter\n",
    "    k = 0 # gradient step counter \n",
    "\n",
    "    old_obj = compute_smooth_obj(v,W,h,h_m,h_p,lamb,eps)\n",
    "    #old_obj = compute_obj(v,W,h,eps)\n",
    "\n",
    "    while( k < max_iter and t != max_backstep ):\n",
    "        \n",
    "        grad = compute_smooth_grad(v,W,h,h_m,h_p,lamb,eps)\n",
    "        #grad = compute_grad(v,W,h,eps)\n",
    "        #obj[k] = compute_obj(v,W,h,eps)\n",
    "        \n",
    "        t = 0 # reset backstepping counter\n",
    "        eta = 1/beta*eta # try to increase stepsize slightly again\n",
    "        \n",
    "        # make sure h-n*grad is positive\n",
    "        while(any(h - eta * grad < 0)  and t < max_backstep ):\n",
    "            t += 1\n",
    "            eta = beta * eta\n",
    "    \n",
    "        new_obj = compute_smooth_obj(v,W,(h - eta*grad),h_m,h_p,lamb,eps)\n",
    "        \n",
    "        while( new_obj > opt_prec * old_obj and t < max_backstep):\n",
    "            t += 1\n",
    "            eta = beta * eta\n",
    "            new_obj = abs(compute_obj(v,W,(h - eta*grad),eps))\n",
    "                      \n",
    "        h = h - eta * grad # update h according to gradient step\n",
    "        k += 1 # update gradient step counter\n",
    "        old_obj = new_obj\n",
    "        \n",
    "    h = h.reshape(h.shape[0],)\n",
    "    return h\n",
    "\n"
   ]
  },
  {
   "cell_type": "code",
   "execution_count": 117,
   "metadata": {
    "collapsed": false
   },
   "outputs": [],
   "source": [
    "#plt.plot([i for i in range(len(obj))], obj)\n"
   ]
  },
  {
   "cell_type": "code",
   "execution_count": 118,
   "metadata": {
    "collapsed": true
   },
   "outputs": [],
   "source": [
    "def online_nmf_smooth(spectrum, W, H,A, B, rho, beta, eta, eps, lamb):\n",
    "\n",
    "    a = np.zeros(W.shape)\n",
    "    b = np.zeros(W.shape)\n",
    "    \n",
    "    t = 1\n",
    "    W_old = W + 1.5*eta\n",
    "    k = W.shape[1]\n",
    "    h = np.random.rand(W.shape[1],)\n",
    "    n = spectrum.shape[1]\n",
    "    cost = []\n",
    "    cost.append(compute_obj(spectrum,W,H,eps))\n",
    "    \n",
    "    while np.linalg.norm(W - W_old, ord = \"fro\") > eta:\n",
    "        \n",
    "        t = t+1 \n",
    "        \n",
    "        ind = random.randint(0, n-1)\n",
    "        v = spectrum[:,ind]\n",
    "    \n",
    "        h = gradient_backtracking_smooth(v, W, H,ind, 100, compute_smooth_grad, compute_smooth_obj, eps, lamb)\n",
    "        \n",
    "        H[:, ind] = h\n",
    "       \n",
    "        h = h.reshape(h.shape[0],1)\n",
    "        v = v.reshape(v.shape[0],1)\n",
    "        den = eps + np.dot(W, h)\n",
    "        \n",
    "        a += np.dot(((eps+v)/(den)**2), h.T) * np.square(W) \n",
    "        \n",
    "        b += np.dot(1/den, h.T)\n",
    "       \n",
    "        if t % beta == 0:\n",
    "            A = A + rho*a\n",
    "            a = 0\n",
    "            B = B + rho*b\n",
    "            b = 0\n",
    "            W_old = W\n",
    "            W = np.sqrt(A/B)\n",
    "            \n",
    "            for i in range(k):\n",
    "                s = np.sum(W[:,i])\n",
    "                W[:,i] = W[:,i]/s\n",
    "                A[:,i] = A[:,i]/s\n",
    "                B[:,i] = B[:,i]*s\n",
    "                #print(i)\n",
    "\n",
    "            #print(np.linalg.norm(compute_obj(spectrum,W_old,H,eps))- compute_obj(spectrum,W,H,eps)) \n",
    "            gc.disable()\n",
    "            cost.append(compute_obj(spectrum,W,H,eps))\n",
    "            gc.enable()\n",
    "            \n",
    "        #cost.append(compute_obj(spectrum,W,H,eps))\n",
    "        if t > 100*n:\n",
    "            print(\" W shape\" , W.shape)\n",
    "            break\n",
    "\n",
    "        #print(\"W\", np.linalg.norm(W[:,1]))\n",
    "        #print(\"H\", np.linalg.norm(H[1]))\n",
    "        #print(compute_obj(spectrum,W,H.T,eps))\n",
    "        \n",
    "    print(\"t\" , t)\n",
    "    print(cost[-1])\n",
    "    return W, H, cost\n",
    "\n"
   ]
  },
  {
   "cell_type": "code",
   "execution_count": 119,
   "metadata": {
    "collapsed": false
   },
   "outputs": [
    {
     "name": "stdout",
     "output_type": "stream",
     "text": [
      "('t', 968200)\n",
      "3143909.42195\n"
     ]
    }
   ],
   "source": [
    "\n",
    "W3 = abs(np.random.randn(spectrum.shape[0],K) + np.ones((spectrum.shape[0],K)))\n",
    "H3 = abs(np.random.randn(K,N)) + np.ones((K, N))\n",
    "#abs(np.random.randn(K, spectrum.shape[1]) + np.ones((K, spectrum.shape[1])))\n",
    "\n",
    "A3 = np.zeros(W.shape)\n",
    "B3 = np.zeros(W.shape)\n",
    "\n",
    "W3, H3, cost3 = online_nmf_smooth(spectrum, W3, H3, A3, B3, rho, beta, 1e-5, eps, 10 )"
   ]
  },
  {
   "cell_type": "code",
   "execution_count": 120,
   "metadata": {
    "collapsed": false
   },
   "outputs": [
    {
     "data": {
      "text/plain": [
       "<matplotlib.text.Text at 0x109defcd0>"
      ]
     },
     "execution_count": 120,
     "metadata": {},
     "output_type": "execute_result"
    },
    {
     "data": {
      "image/png": "[encoded data removed]",
      "text/plain": [
       "<matplotlib.figure.Figure at 0x109d5f310>"
      ]
     },
     "metadata": {},
     "output_type": "display_data"
    }
   ],
   "source": [
    "plt.plot([i for i in range(len(cost3))], cost3)\n",
    "\n",
    "plt.xlabel(\"Iterations\")\n",
    "plt.ylabel(\"Objective function\")"
   ]
  },
  {
   "cell_type": "code",
   "execution_count": 126,
   "metadata": {
    "collapsed": false
   },
   "outputs": [
    {
     "data": {
      "text/plain": [
       "[<matplotlib.lines.Line2D at 0x10bb38650>]"
      ]
     },
     "execution_count": 126,
     "metadata": {},
     "output_type": "execute_result"
    },
    {
     "data": {
      "image/png": "[encoded data removed]",
      "text/plain": [
       "<matplotlib.figure.Figure at 0x10688b9d0>"
      ]
     },
     "metadata": {},
     "output_type": "display_data"
    },
    {
     "data": {
      "image/png": "[encoded data removed]",
      "text/plain": [
       "<matplotlib.figure.Figure at 0x10688bb10>"
      ]
     },
     "metadata": {},
     "output_type": "display_data"
    }
   ],
   "source": [
    "index = random.randint(0, len(H3)-1)\n",
    "ilist = [i for i in range(2000)]\n",
    "plt.plot(ilist,H[index][6000:8000])\n",
    "plt.figure()\n",
    "plt.plot(ilist, H3[index][6000:8000])\n"
   ]
  },
  {
   "cell_type": "code",
   "execution_count": 129,
   "metadata": {
    "collapsed": false
   },
   "outputs": [
    {
     "name": "stdout",
     "output_type": "stream",
     "text": [
      "('t', 30400)\n",
      "72110200.1123\n",
      "('t', 78848)\n",
      "4757132.72682\n",
      "('t', 162304)\n",
      "4206056.54135\n",
      "('t', 401920)\n",
      "4155775.18063\n",
      "('t', 748544)\n",
      "4266063.41381\n",
      "(' W shape', (129, 10))\n",
      "('t', 1126301)\n",
      "4382569.29268\n"
     ]
    }
   ],
   "source": [
    "import time\n",
    "eps = 1e-12\n",
    "K = 10\n",
    "r = 1\n",
    "beta = 100\n",
    "rho = r**(beta/spectrum.shape[1])\n",
    "ilist1 = [2**i for i in range(6,12)]\n",
    "    \n",
    "timelist = [0]*len(ilist1)\n",
    "obj4 = [0]*len(ilist1)\n",
    "\n",
    "\n",
    "for ind in range(len(ilist1)):\n",
    "    \n",
    "    W4 = abs(np.random.randn(F,K)) + np.ones((F,K))\n",
    "    H4 = abs(np.random.randn(K,N)) + np.ones((K, N))\n",
    "    A4 = np.zeros(W4.shape)\n",
    "    B4 = np.zeros(W.shape)\n",
    "    start = time.time()\n",
    "    W4, H4, cost4 = online_nmf(spectrum, W4, H4, A4, B4, rho, ilist1[ind], 1e-4, eps)\n",
    "    end = time.time()\n",
    "    timelist[ind] = end-start\n",
    "    obj4[ind] = cost4[-1]\n",
    "    \n",
    "    \n"
   ]
  },
  {
   "cell_type": "code",
   "execution_count": 130,
   "metadata": {
    "collapsed": false
   },
   "outputs": [
    {
     "data": {
      "text/plain": [
       "[<matplotlib.lines.Line2D at 0x10bcf8050>]"
      ]
     },
     "execution_count": 130,
     "metadata": {},
     "output_type": "execute_result"
    },
    {
     "data": {
      "image/png": "[encoded data removed]",
      "text/plain": [
       "<matplotlib.figure.Figure at 0x1127ab790>"
      ]
     },
     "metadata": {},
     "output_type": "display_data"
    }
   ],
   "source": [
    "plt.plot(ilist1, timelist)"
   ]
  },
  {
   "cell_type": "code",
   "execution_count": 132,
   "metadata": {
    "collapsed": false
   },
   "outputs": [
    {
     "data": {
      "text/plain": [
       "[<matplotlib.lines.Line2D at 0x10c2b50d0>]"
      ]
     },
     "execution_count": 132,
     "metadata": {},
     "output_type": "execute_result"
    },
    {
     "data": {
      "image/png": "[encoded data removed]",
      "text/plain": [
       "<matplotlib.figure.Figure at 0x10c1d12d0>"
      ]
     },
     "metadata": {},
     "output_type": "display_data"
    }
   ],
   "source": [
    "plt.plot(ilist1[1:], obj4[1:])"
   ]
  },
  {
   "cell_type": "code",
   "execution_count": 133,
   "metadata": {
    "collapsed": false
   },
   "outputs": [
    {
     "name": "stdout",
     "output_type": "stream",
     "text": [
      "('t', 40256)\n",
      "44745126.6761\n",
      "('t', 86272)\n",
      "4499837.80332\n",
      "('t', 141568)\n",
      "4072307.20841\n",
      "('t', 350720)\n",
      "4138947.39666\n",
      "('t', 684032)\n",
      "3905097.90514\n",
      "(' W shape', (129, 10))\n",
      "('t', 1126301)\n",
      "4249734.54038\n"
     ]
    }
   ],
   "source": [
    "eps = 1e-12\n",
    "K = 10\n",
    "r = 1\n",
    "\n",
    "obj5 = [0]*len(ilist1)\n",
    "\n",
    "for ind in range(len(ilist1)):    \n",
    "    W5 = abs(np.random.randn(F,K)) + np.ones((F,K))\n",
    "    H5 = abs(np.random.randn(K,N)) + np.ones((K, N))\n",
    "    A5 = np.zeros(W5.shape)\n",
    "    B5 = np.zeros(W5.shape)\n",
    "\n",
    "    beta = ilist1[ind]\n",
    "    rho = r**(beta/spectrum.shape[1])\n",
    "    W5, H5, cost5 = online_nmf(spectrum, W5, H5, A5, B5, rho, beta, 1e-4, eps)\n",
    "\n",
    "    obj5[ind] = cost5[-1]\n",
    "    \n",
    "    \n"
   ]
  },
  {
   "cell_type": "code",
   "execution_count": 135,
   "metadata": {
    "collapsed": false
   },
   "outputs": [
    {
     "data": {
      "text/plain": [
       "[<matplotlib.lines.Line2D at 0x1068bdd90>]"
      ]
     },
     "execution_count": 135,
     "metadata": {},
     "output_type": "execute_result"
    },
    {
     "data": {
      "image/png": "[encoded data removed]",
      "text/plain": [
       "<matplotlib.figure.Figure at 0x10c37c910>"
      ]
     },
     "metadata": {},
     "output_type": "display_data"
    }
   ],
   "source": [
    "plt.plot(ilist1[1:], obj5[1:])"
   ]
  },
  {
   "cell_type": "code",
   "execution_count": null,
   "metadata": {
    "collapsed": true
   },
   "outputs": [],
   "source": []
  }
 ],
 "metadata": {
  "kernelspec": {
   "display_name": "Python 2",
   "language": "python",
   "name": "python2"
  },
  "language_info": {
   "codemirror_mode": {
    "name": "ipython",
    "version": 2
   },
   "file_extension": ".py",
   "mimetype": "text/x-python",
   "name": "python",
   "nbconvert_exporter": "python",
   "pygments_lexer": "ipython2",
   "version": "2.7.11"
  }
 },
 "nbformat": 4,
 "nbformat_minor": 0
}
