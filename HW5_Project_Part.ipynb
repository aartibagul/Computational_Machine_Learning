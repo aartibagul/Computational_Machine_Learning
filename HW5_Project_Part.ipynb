{
 "cells": [
  {
   "cell_type": "code",
   "execution_count": 7,
   "metadata": {
    "collapsed": false
   },
   "outputs": [],
   "source": [
    "import numpy as np\n",
    "\n",
    "def interval_projection(mu):\n",
    "    if(mu < 0):\n",
    "        mu = 0\n",
    "    elif(mu >= 1):\n",
    "        mu = 1\n",
    "    return mu\n",
    "\n",
    "# projects vector z onto all vectors living in [0,1]^f\n",
    "def project_column(z):\n",
    "    f = len(z)\n",
    "    # initialize projection vector x\n",
    "    x = np.zeros(f)   \n",
    "    \n",
    "    mu = z[0]\n",
    "    \n",
    "    kc = 0\n",
    "    for k in range(1,f):\n",
    "        if(z[k] <= interval_projection(mu)):\n",
    "            kc = k - 1\n",
    "            break\n",
    "        else:\n",
    "            mu = (k-1)/k * mu + 1/k * z[k]\n",
    "\n",
    "    x[0] = interval_projection(mu)\n",
    "\n",
    "    for k in range(1,kc):\n",
    "        x[k] = interval_projection(mu)\n",
    "    for k in range(kc, f):\n",
    "        # assign the positive part of z[k]\n",
    "        x[k] = z[k] if (z[k] > 0) else 0\n",
    "        \n",
    "    return x, mu\n",
    "    \n",
    "# helper function for hottopixx below\n",
    "def project_on_phi(C):\n",
    "    (f,f) = C.shape\n",
    "    mu = np.zeros(f)\n",
    "    for i in range(f):\n",
    "        z = C[:,i]\n",
    "        C[:,i], mu[i] = project_column(z)\n",
    "    return C, mu"
   ]
  },
  {
   "cell_type": "code",
   "execution_count": 8,
   "metadata": {
    "collapsed": true
   },
   "outputs": [],
   "source": [
    "# X is the non-negative data matrix, f by n\n",
    "# expects X's rows to sum to 1\n",
    "# r is the dimension of the NMF, i.e. X = FW where F is f by r, W is r by n\n",
    "\n",
    "def hottopixx(X,r):\n",
    "    \n",
    "    # get dimensions of data matrix (Careful: X is features times samples, different than usual)\n",
    "    (f,n) = X.shape\n",
    "    \n",
    "    # primal and dual stepsizes\n",
    "    sp = 1e-1\n",
    "    sd = 1e-2\n",
    "\n",
    "    # initialize cost vector randomly (does this have to be a positive vector?)\n",
    "    p = np.random.rand(f)\n",
    "\n",
    "    # 'one' vector\n",
    "    one = np.ones(f)\n",
    "    \n",
    "    # mu vector\n",
    "    mu = np.zeros(f)\n",
    "    \n",
    "    # C is f by f\n",
    "    C = np.zeros((f,f))\n",
    "    \n",
    "    beta = 0\n",
    "    \n",
    "    # number of epochs\n",
    "    N_ep = 3\n",
    "    \n",
    "    for t in range(N_ep):\n",
    "        \n",
    "        # do an epoch\n",
    "        for i in range(n):\n",
    "            \n",
    "            # choose random column of data matrix\n",
    "            k = math.floor(np.random.rand() * n)\n",
    "            Xk = X[:,k]\n",
    "            \n",
    "            # term in the sign function (see paper)\n",
    "            term1 = np.sign(Xk - np.dot(C,Xk))\n",
    "            \n",
    "            # incremental gradient descent step\n",
    "            C = C + sp * np.dot(term1, Xk.T) - sp * np.diag(mu * (beta * one - p))\n",
    "            \n",
    "        # project C onto Phi_0\n",
    "        C, mu = project_on_phi(C)\n",
    "        \n",
    "        # update beta\n",
    "        beta = beta + sd * (np.trace(C) - r)\n",
    "    \n",
    "    \n",
    "    # now, we have selected the most salient features of the data matrix.\n",
    "    # Let's extract them:\n",
    "    # - Implement\n",
    "    \n",
    "    # Solve for F with linear program "
   ]
  },
  {
   "cell_type": "code",
   "execution_count": 15,
   "metadata": {
    "collapsed": false
   },
   "outputs": [],
   "source": []
  },
  {
   "cell_type": "code",
   "execution_count": 22,
   "metadata": {
    "collapsed": false
   },
   "outputs": [],
   "source": []
  },
  {
   "cell_type": "code",
   "execution_count": null,
   "metadata": {
    "collapsed": false
   },
   "outputs": [],
   "source": []
  }
 ],
 "metadata": {
  "kernelspec": {
   "display_name": "Python 3",
   "language": "python",
   "name": "python3"
  },
  "language_info": {
   "codemirror_mode": {
    "name": "ipython",
    "version": 3
   },
   "file_extension": ".py",
   "mimetype": "text/x-python",
   "name": "python",
   "nbconvert_exporter": "python",
   "pygments_lexer": "ipython3",
   "version": "3.4.3"
  }
 },
 "nbformat": 4,
 "nbformat_minor": 0
}
