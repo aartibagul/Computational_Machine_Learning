{
 "cells": [
  {
   "cell_type": "code",
   "execution_count": 4,
   "metadata": {
    "collapsed": false
   },
   "outputs": [],
   "source": [
    "import numpy as np\n",
    "\n",
    "def interval_projection(mu):\n",
    "    if(mu < 0):\n",
    "        mu = 0\n",
    "    elif(mu >= 1):\n",
    "        mu = 1\n",
    "    return mu\n",
    "\n",
    "# projects vector z onto all vectors living in [0,1]^f\n",
    "# z_in is the ith column of the matrix C in hottopixx\n",
    "def project_column(z_in, i):\n",
    "    \n",
    "    f = len(z_in)\n",
    "    \n",
    "    z = np.zeros(f)\n",
    "    \n",
    "    # have to sort the remaining elements of z for the algorithm\n",
    "    # and keep track of where each index went\n",
    "    # the [::-1] makes sure this is the decreasing order\n",
    "    ind = np.argsort(z_in)[::-1]\n",
    "    # but regardless of the sorting, the diagonal element has to be first\n",
    "    ind = ind[ ind != i ]\n",
    "    ind = np.insert(ind,0,i)\n",
    "    z = z_in[ind]\n",
    "    \n",
    "    # initialize projection vector x\n",
    "    x = np.zeros(f)   \n",
    "    \n",
    "    mu = z[0]\n",
    "   \n",
    "    kc = 0\n",
    "    for k in range(1,f):\n",
    "        if(z[k] <= interval_projection(mu)):\n",
    "            kc = k - 1\n",
    "            break\n",
    "        else:\n",
    "            mu = (k-1)/k * mu + 1/k * z[k]\n",
    "\n",
    "    x[0] = interval_projection(mu)\n",
    "    for k in range(0,kc):\n",
    "        x[k] = interval_projection(mu)\n",
    "    for k in range(kc+1, f):\n",
    "        # assign the positive part of z[k]\n",
    "        x[k] = z[k] if (z[k] > 0) else 0\n",
    "\n",
    "    # reverse the permutations of the original elements\n",
    "    ind = np.argsort(ind)\n",
    "    x = x[ind]\n",
    "\n",
    "    return x\n",
    "    \n",
    "# helper function for hottopixx below\n",
    "def project_on_phi(C):\n",
    "    (f,f) = C.shape\n",
    "    mu = np.zeros(f)\n",
    "    for i in range(f):\n",
    "        z = C[:,i]\n",
    "        C[:,i] = project_column(z, i)\n",
    "    return C"
   ]
  },
  {
   "cell_type": "code",
   "execution_count": 5,
   "metadata": {
    "collapsed": true
   },
   "outputs": [],
   "source": [
    "# step 11 in hottopixx\n",
    "def extract_col(C):\n",
    "    (f,f) = C.shape\n",
    "    I = []\n",
    "    num_ones = 0\n",
    "    for i in range(f):\n",
    "        if(C[i,i] == 1):\n",
    "            I.append(i)\n",
    "            num_ones += 1\n",
    "    return I, num_ones"
   ]
  },
  {
   "cell_type": "code",
   "execution_count": 6,
   "metadata": {
    "collapsed": false
   },
   "outputs": [],
   "source": [
    "import math\n",
    "\n",
    "# X is the non-negative data matrix, f by n\n",
    "# expects X's rows to sum to 1\n",
    "# r is the dimension of the NMF, i.e. X = FW where F is f by r, W is r by n\n",
    "\n",
    "def hottopixx(X,r):\n",
    "    \n",
    "    # get dimensions of data matrix (Careful: X is features times samples, different than usual)\n",
    "    (f,n) = X.shape\n",
    "    \n",
    "    # primal and dual stepsizes\n",
    "    sp = 1e-1\n",
    "    sd = 1e-2\n",
    "\n",
    "    # initialize cost vector randomly (does this have to be a positive vector?)\n",
    "    p = np.random.rand(f)\n",
    "\n",
    "    # 'one' vector\n",
    "    one = np.ones(f)\n",
    "    \n",
    "    # mu vector, mu[i] is the number of non-zero entries (in X or C?)\n",
    "    mu = np.ones(f)\n",
    "    \n",
    "    # C is f by f\n",
    "    C = np.zeros((f,f))\n",
    "    \n",
    "    beta = 0\n",
    "    \n",
    "    # number of epochs\n",
    "    N_ep = 1000\n",
    "    \n",
    "    for t in range(N_ep):\n",
    "        \n",
    "        # do an epoch\n",
    "        for i in range(n):\n",
    "            \n",
    "            # choose random column of data matrix\n",
    "            k = math.floor(np.random.rand() * n)\n",
    "            Xk = X[:,k].reshape(f,1)\n",
    "            # term in the sign function (see paper)\n",
    "            term1 = np.sign(Xk - np.dot(C,Xk))\n",
    "            # incremental gradient descent step, (potentially add the mu factor here)\n",
    "            C = C + sp * np.dot(term1, Xk.T) - sp * np.diag((beta * one - p))\n",
    "        # project C onto Phi_0\n",
    "        C = project_on_phi(C)\n",
    "        # update beta\n",
    "        beta = beta + sd * (np.trace(C) - r)\n",
    "        \n",
    "    # now, we have selected the most salient features of the data matrix.\n",
    "    # Let's extract and return them:\n",
    "    I, num_ones = extract_col(C)\n",
    "    F = C[:,I]\n",
    "    W = X[I,:]\n",
    "    #print(np.diag(C))\n",
    "    print('number of hottopixx found: ' + str(num_ones))\n",
    "    return F, W"
   ]
  },
  {
   "cell_type": "code",
   "execution_count": 7,
   "metadata": {
    "collapsed": true
   },
   "outputs": [],
   "source": [
    "# normalizes non-negative X row-wise\n",
    "def row_normalize(X):\n",
    "    for i in range(X.shape[0]):\n",
    "        row_sum = X[i].sum()\n",
    "        X[i] = X[i]/row_sum\n",
    "    return X"
   ]
  },
  {
   "cell_type": "code",
   "execution_count": 8,
   "metadata": {
    "collapsed": true
   },
   "outputs": [],
   "source": [
    "import wave\n",
    "import matplotlib.mlab as mlab\n",
    "from sklearn import preprocessing\n",
    "\n",
    "# computes power and l2 normalized spectrogram from .wav file\n",
    "def wav_to_spect(filename):\n",
    "    # import sample soundfile and get it ready for kmeans\n",
    "    w = wave.open(filename, \"rb\")\n",
    "\n",
    "    waveParams = w.getparams()\n",
    "    s = w.readframes(waveParams[3])\n",
    "    w.close()\n",
    "    waveArray = np.fromstring(s, np.int16)\n",
    "    \n",
    "    spectrum, freq, bins = mlab.specgram(waveArray, NFFT=256, Fs = waveParams[2], sides = 'onesided')\n",
    "\n",
    "    (n,m) = spectrum.shape\n",
    "    \n",
    "    # power normalization \n",
    "    for i in range(n):\n",
    "        for j in range(m):\n",
    "            spectrum[i,j] = np.sqrt(spectrum[i,j])\n",
    "\n",
    "    # l2 normalization\n",
    "    preprocessing.normalize(spectrum, norm = 'l2', axis = 1, copy = False)\n",
    "\n",
    "    return spectrum"
   ]
  },
  {
   "cell_type": "code",
   "execution_count": 13,
   "metadata": {
    "collapsed": false
   },
   "outputs": [],
   "source": [
    "X = np.random.rand(3,5)\n",
    "X = row_normalize(X)"
   ]
  },
  {
   "cell_type": "code",
   "execution_count": 14,
   "metadata": {
    "collapsed": true
   },
   "outputs": [],
   "source": [
    "np.savetxt(\"X.tsv\", X, delimiter = '\\t', newline = '\\n' )"
   ]
  },
  {
   "cell_type": "code",
   "execution_count": 589,
   "metadata": {
    "collapsed": false
   },
   "outputs": [
    {
     "name": "stdout",
     "output_type": "stream",
     "text": [
      "[ 0.06167466  1.          1.          0.06359649  0.06418499  1.\n",
      "  0.07823604  0.03292089  0.07389511  0.07453211  0.06379164  0.08358108\n",
      "  1.          0.06355391  1.          0.08277986  1.          0.03974574\n",
      "  0.06682618  0.05145228  0.08304687  0.08475537  0.05972625  0.07325193\n",
      "  0.06452291  0.05369627  0.05778829  0.04318103  0.06019314  0.04510099\n",
      "  0.0733751   0.04514393  0.08536761  0.0661271   1.          0.05689076\n",
      "  0.08751247  0.07093722  1.          0.05663606  0.08934751  0.04460133\n",
      "  1.          0.09130883  1.          1.          0.06352689  0.04287782\n",
      "  0.0489692   1.          1.          0.06530096  0.05465004  0.04663404\n",
      "  1.          0.07980866  0.05031084  1.          0.08526564  0.04893781\n",
      "  1.          1.          0.07856928  1.          0.108563    0.05148659\n",
      "  0.09608442  0.11188698  0.03195004  0.05259868  0.05904399  0.05928603\n",
      "  0.0577429   0.05711509  0.04087195  1.          0.08822425  1.          0.0718375\n",
      "  1.          0.08690466  0.05761321  0.08229948  0.06753397  0.06743956\n",
      "  1.          0.06471683  1.          0.05668456  0.07216813  0.10389689\n",
      "  1.          1.          0.06599365  0.06180278  0.06877502  0.05937596\n",
      "  0.08023195  0.06639781  0.0658842 ]\n",
      "25\n",
      "18.73723292350769\n"
     ]
    }
   ],
   "source": [
    "import time\n",
    "start = time.time()\n",
    "F,W = hottopixx(X,30)\n",
    "end = time.time()\n",
    "print(end-start)"
   ]
  },
  {
   "cell_type": "code",
   "execution_count": 590,
   "metadata": {
    "collapsed": false
   },
   "outputs": [
    {
     "data": {
      "text/plain": [
       "array([[  4.12319812e-01,   2.37305169e-01,   2.88670031e-01, ...,\n",
       "          1.61894630e-02,   0.00000000e+00,   5.04335185e-02],\n",
       "       [  1.00000000e+00,   0.00000000e+00,   0.00000000e+00, ...,\n",
       "          3.79001124e-03,   0.00000000e+00,   6.34406126e-03],\n",
       "       [  0.00000000e+00,   1.00000000e+00,   0.00000000e+00, ...,\n",
       "          0.00000000e+00,   0.00000000e+00,   0.00000000e+00],\n",
       "       ..., \n",
       "       [  8.76829628e-02,   0.00000000e+00,   2.19733878e-01, ...,\n",
       "          1.59791647e-01,   1.86722366e-04,   0.00000000e+00],\n",
       "       [  1.20495260e-01,   0.00000000e+00,   4.73769258e-02, ...,\n",
       "          0.00000000e+00,   7.62885322e-01,   4.46973523e-01],\n",
       "       [  0.00000000e+00,   0.00000000e+00,   0.00000000e+00, ...,\n",
       "          0.00000000e+00,   0.00000000e+00,   3.42076642e-01]])"
      ]
     },
     "execution_count": 590,
     "metadata": {},
     "output_type": "execute_result"
    }
   ],
   "source": [
    "F"
   ]
  },
  {
   "cell_type": "code",
   "execution_count": 9,
   "metadata": {
    "collapsed": false
   },
   "outputs": [
    {
     "name": "stdout",
     "output_type": "stream",
     "text": [
      "(129, 41131)\n"
     ]
    }
   ],
   "source": [
    "spect = wav_to_spect('train.wav')\n",
    "print(spect.shape)"
   ]
  },
  {
   "cell_type": "code",
   "execution_count": 10,
   "metadata": {
    "collapsed": true
   },
   "outputs": [],
   "source": [
    "np.savetxt(\"spect.tsv\", spect, delimiter = '\\t', newline = '\\n' )"
   ]
  },
  {
   "cell_type": "code",
   "execution_count": 592,
   "metadata": {
    "collapsed": false
   },
   "outputs": [
    {
     "name": "stdout",
     "output_type": "stream",
     "text": [
      "(129, 1029)\n"
     ]
    }
   ],
   "source": [
    "# to speed up the computation, lets downsample for now (Cédric Févotte samples at 11kHz, while this recording is at 44.1kHz)\n",
    "spect2 = spect[:,0:spect.shape[1]:40]\n",
    "print(spect2.shape)\n",
    "spect2 = row_normalize(spect2)"
   ]
  },
  {
   "cell_type": "code",
   "execution_count": 606,
   "metadata": {
    "collapsed": false
   },
   "outputs": [
    {
     "name": "stdout",
     "output_type": "stream",
     "text": [
      "[ 1.          0.17031393  0.1494879   1.          1.          0.09968434\n",
      "  1.          1.          0.11151226  0.1213821   0.10989163  1.\n",
      "  0.10466324  1.          1.          0.09844468  1.          0.13635795\n",
      "  0.10905873  1.          1.          1.          0.08168864  0.10030063\n",
      "  0.09869733  1.          0.05097285  1.          1.          0.07212907\n",
      "  0.05288313  0.09532182  0.05921396  1.          1.          0.04236489\n",
      "  0.05284964  1.          1.          1.          1.          1.          1.\n",
      "  1.          1.          1.          0.05279188  1.          0.06143447\n",
      "  0.08760213  0.08204593  0.09656134  0.12138481  1.          0.09901281\n",
      "  1.          1.          0.16466243  0.13591287  0.16288352  1.\n",
      "  0.15609421  1.          1.          1.          1.          0.14896122\n",
      "  0.17628856  0.12628027  0.17100116  1.          0.09777623  1.          1.\n",
      "  1.          1.          0.11836214  1.          1.          1.          1.\n",
      "  1.          0.06496446  1.          0.06077733  0.03903926  1.\n",
      "  0.06253592  0.10359999  0.0769135   0.06206032  0.05961127  1.          1.\n",
      "  0.05036091  0.08182608  1.          0.05339818  1.          1.\n",
      "  0.06449717  0.05630494  1.          1.          0.08328078  1.\n",
      "  0.11101694  0.15423266  1.          1.          0.10119046  0.12545826\n",
      "  1.          0.12413739  0.15535741  0.12020291  0.12716419  0.11429355\n",
      "  1.          1.          1.          0.10073175  1.          1.          0.086015\n",
      "  0.13037756  0.19425896  0.19048184  0.20363396]\n",
      "63\n",
      "172.8562891483307\n"
     ]
    }
   ],
   "source": [
    "# Anything below 70 returns non-sensical values\n",
    "import time\n",
    "start = time.time()\n",
    "F,W = hottopixx(spect2,70)\n",
    "end = time.time()\n",
    "print(end-start)"
   ]
  },
  {
   "cell_type": "code",
   "execution_count": 608,
   "metadata": {
    "collapsed": false
   },
   "outputs": [
    {
     "data": {
      "text/plain": [
       "(63, 1029)"
      ]
     },
     "execution_count": 608,
     "metadata": {},
     "output_type": "execute_result"
    }
   ],
   "source": [
    "W.shape"
   ]
  },
  {
   "cell_type": "code",
   "execution_count": 609,
   "metadata": {
    "collapsed": false
   },
   "outputs": [],
   "source": [
    "# save the result to a file\n",
    "np.save(\"F_train\", F)\n",
    "np.save(\"W_train\", W)"
   ]
  },
  {
   "cell_type": "code",
   "execution_count": 611,
   "metadata": {
    "collapsed": false
   },
   "outputs": [
    {
     "name": "stdout",
     "output_type": "stream",
     "text": [
      "Frobenius: 5.14612045001\n",
      "INF-1: 21.0726263542\n"
     ]
    }
   ],
   "source": [
    "# Frobenius norm of difference between data and factorization\n",
    "print('Frobenius: ' + str(np.linalg.norm(spect2-np.dot(F,W))))\n",
    "# Norm in paper\n",
    "print('INF-1: ' + str(max(np.sum(abs(spect2-np.dot(F,W)), axis = 1))))"
   ]
  },
  {
   "cell_type": "code",
   "execution_count": 612,
   "metadata": {
    "collapsed": false
   },
   "outputs": [],
   "source": [
    "F_train = np.load(\"F_train.npy\")\n",
    "W_train = np.load(\"W_train.npy\")"
   ]
  },
  {
   "cell_type": "code",
   "execution_count": 613,
   "metadata": {
    "collapsed": false
   },
   "outputs": [
    {
     "data": {
      "text/plain": [
       "[<matplotlib.lines.Line2D at 0x122786780>]"
      ]
     },
     "execution_count": 613,
     "metadata": {},
     "output_type": "execute_result"
    },
    {
     "data": {
      "image/png": "[encoded data removed]",
      "text/plain": [
       "<matplotlib.figure.Figure at 0x1189ef4e0>"
      ]
     },
     "metadata": {},
     "output_type": "display_data"
    }
   ],
   "source": [
    "# row of W\n",
    "%matplotlib inline\n",
    "import matplotlib.pyplot as plt\n",
    "plt.plot(range(W_train.shape[1]), W_train[1,:])"
   ]
  },
  {
   "cell_type": "code",
   "execution_count": 614,
   "metadata": {
    "collapsed": false
   },
   "outputs": [
    {
     "data": {
      "text/plain": [
       "(63, 1029)"
      ]
     },
     "execution_count": 614,
     "metadata": {},
     "output_type": "execute_result"
    }
   ],
   "source": [
    "W_train.shape"
   ]
  },
  {
   "cell_type": "code",
   "execution_count": 615,
   "metadata": {
    "collapsed": false
   },
   "outputs": [
    {
     "data": {
      "text/plain": [
       "[<matplotlib.lines.Line2D at 0x122537e80>]"
      ]
     },
     "execution_count": 615,
     "metadata": {},
     "output_type": "execute_result"
    },
    {
     "data": {
      "image/png": "[encoded data removed]",
      "text/plain": [
       "<matplotlib.figure.Figure at 0x12288e7b8>"
      ]
     },
     "metadata": {},
     "output_type": "display_data"
    }
   ],
   "source": [
    "# row of F\n",
    "plt.plot(range(F_train.shape[0]), F_train[:,0])"
   ]
  },
  {
   "cell_type": "code",
   "execution_count": 618,
   "metadata": {
    "collapsed": false
   },
   "outputs": [
    {
     "data": {
      "text/plain": [
       "[<matplotlib.lines.Line2D at 0x12207d8d0>]"
      ]
     },
     "execution_count": 618,
     "metadata": {},
     "output_type": "execute_result"
    },
    {
     "data": {
      "image/png": "[encoded data removed]",
      "text/plain": [
       "<matplotlib.figure.Figure at 0x1113e72e8>"
      ]
     },
     "metadata": {},
     "output_type": "display_data"
    }
   ],
   "source": [
    "plt.plot(range(F_train.shape[0]), F_train[:,10])"
   ]
  },
  {
   "cell_type": "code",
   "execution_count": null,
   "metadata": {
    "collapsed": true
   },
   "outputs": [],
   "source": []
  }
 ],
 "metadata": {
  "kernelspec": {
   "display_name": "Python 3",
   "language": "python",
   "name": "python3"
  },
  "language_info": {
   "codemirror_mode": {
    "name": "ipython",
    "version": 3
   },
   "file_extension": ".py",
   "mimetype": "text/x-python",
   "name": "python",
   "nbconvert_exporter": "python",
   "pygments_lexer": "ipython3",
   "version": "3.4.3"
  }
 },
 "nbformat": 4,
 "nbformat_minor": 0
}
