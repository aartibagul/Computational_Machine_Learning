{
 "cells": [
  {
   "cell_type": "code",
   "execution_count": 2,
   "metadata": {
    "collapsed": true
   },
   "outputs": [],
   "source": [
    "%matplotlib inline\n",
    "import numpy as np\n",
    "import random\n",
    "from __future__ import division\n",
    "import wave, struct, numpy as np, matplotlib.mlab as mlab, pylab as pl\n",
    "import matplotlib.pyplot as plt\n",
    "import gc"
   ]
  },
  {
   "cell_type": "code",
   "execution_count": 3,
   "metadata": {
    "collapsed": false
   },
   "outputs": [
    {
     "data": {
      "image/png": "[encoded data removed]",
      "text/plain": [
       "<matplotlib.figure.Figure at 0x1069ab198>"
      ]
     },
     "metadata": {},
     "output_type": "display_data"
    }
   ],
   "source": [
    "filename = \"CML_Recording_Both.wav\"\n",
    "w = wave.open(filename,\"rb\")\n",
    "\n",
    "#returns a named tuple (nchannels, sampwidth, framerate, \n",
    "# nframes, comptype, compname)\n",
    "waveParams = w.getparams()\n",
    "\n",
    "s = w.readframes(waveParams[3])\n",
    "w.close()\n",
    "waveArray = np.fromstring(s, np.int16)\n",
    "\n",
    "pl.figure()\n",
    "pl.plot(waveArray)\n",
    "\n",
    "spectrum, freq, bins = mlab.specgram(waveArray, NFFT=256,Fs=waveParams[2],sides='onesided')\n"
   ]
  },
  {
   "cell_type": "code",
   "execution_count": 4,
   "metadata": {
    "collapsed": true
   },
   "outputs": [],
   "source": [
    "# calculates and returns spectrogram of \n",
    "def get_wave(filename):\n",
    "    w = wave.open(filename,\"rb\")\n",
    "    waveParams = w.getparams()\n",
    "    s = w.readframes(waveParams[3])\n",
    "    w.close()\n",
    "    waveArray = np.fromstring(s, np.int16)\n",
    "    return waveArray\n",
    "\n",
    "# power spectrogram is the absolute value SQUARED of the stft\n",
    "def get_spectrogram(stft):\n",
    "    return np.abs(stft)**2\n",
    "\n",
    "# takes in wave file as input\n",
    "# win_size is the length of the window in samples\n",
    "# overlap is the amount of overlap between windows in samples\n",
    "def my_stft(wave, win_size, overlap):\n",
    "    # power sinbell analysis window\n",
    "    win = sinebell(win_size, overlap)\n",
    "    # make the frames\n",
    "    frames, wave_pad = make_frames(wave, win, overlap)\n",
    "    # fft, for each column\n",
    "    stft = np.fft.fft(frames)\n",
    "    # keep the spectrum associated with the positive frequencies (potentially times to the upper frequencies)\n",
    "    if len(win)%2 == 0:\n",
    "        stft = stft[:int(len(win)/2)+1]\n",
    "    else:\n",
    "        stft = stft[:int((len(win)+1)/2)]\n",
    "    return stft, wave_pad\n",
    "    \n",
    "# create sinebell window of length win_size, with overlap, DONE\n",
    "def sinebell(win_size, overlap):\n",
    "    win = np.zeros(win_size)\n",
    "    win[0:overlap] = np.sin( math.pi * (np.array([i for i in range(overlap)])) / (2*(overlap-1)) )\n",
    "    win[overlap : win_size - overlap] = 1\n",
    "    win[win_size - overlap:] = np.sin( math.pi * (win_size - np.array([i for i in range(win_size-overlap, win_size)]) - 1 ) / (2*(overlap - 1)) )\n",
    "    return win\n",
    "\n",
    "# computes sinebell window with smooth edges, this should be an improvement\n",
    "def power_sinebell(win_size, overlap):\n",
    "    win = np.zeros(win_size)\n",
    "    win[0:overlap] = np.sin( math.pi * (np.array([i for i in range(overlap)])) / (2*(overlap-1)) )**2\n",
    "    win[overlap : win_size - overlap] = 1\n",
    "    win[win_size - overlap:] = np.sin( math.pi * (win_size - np.array([i for i in range(win_size-overlap, win_size)]) - 1 ) / (2*(overlap - 1)) )**2\n",
    "    return win\n",
    "\n",
    "# x is the input signal, win is the analysis window, overlap\n",
    "# returns frame matrix and padded input signal x_pad\n",
    "def make_frames(x, win, overlap):\n",
    "    win_len = win.shape[0]\n",
    "    x_len = len(x)\n",
    "    \n",
    "    # number of frames\n",
    "    num_frames = int(np.ceil((x_len + overlap)/(win_len - overlap)))\n",
    "    \n",
    "    # initializing zero padded signal\n",
    "    pad_len = int(overlap + num_frames * (win_len - overlap))\n",
    "    x_pad = np.zeros(pad_len)\n",
    "    x_pad[overlap: overlap + x_len] = x\n",
    "    \n",
    "    # index of beginning of each frame in x_pad\n",
    "    frame_ind = np.array([i for i in range(num_frames)]) * (win_len - overlap)\n",
    "    \n",
    "    # initialize frames matrix\n",
    "    frames = np.zeros((win_size, num_frames))\n",
    "    for i in range(num_frames):\n",
    "        frames[:,i] = (x_pad[frame_ind[i] : frame_ind[i] + win_size] * win)\n",
    "    \n",
    "    return frames, x_pad\n",
    "    \n",
    "def my_istft(stft, win_size, overlap):\n",
    "    # power sinbell analysis window\n",
    "    win = sinebell(win_size, overlap)\n",
    "    (num_coeff, num_frames) = stft.shape\n",
    "    \n",
    "    # recover full stft by conjugate symmetry of the fourier expansion of real signals\n",
    "    stft_full = np.zeros((win_size, num_frames), dtype = np.complex128)\n",
    "    stft_full[:num_coeff,:] = stft\n",
    "    \n",
    "    # reasoning: stft[ num_coeff - 1] is the both the negative and positive Nyquist frequency if win_size is even\n",
    "    # thus, we take the conjugate only of stft[ num_coeff - 2:0:-1 ]\n",
    "    if win_size%2 == 0:\n",
    "        stft_full[num_coeff:, :] = np.conj(stft[num_coeff-2:0:-1, :])\n",
    "    else:\n",
    "        stft_full[num_coeff:,:] = np.conj(stft[num_coeff-1:0:-1, :])\n",
    "        \n",
    "    # take inverse fft of recovered stft\n",
    "    istft = np.fft.ifft(stft_full)\n",
    "    # reconstruct padded signal by taking overlap into account\n",
    "    x_pad = overlap_add(istft, win_size, overlap)\n",
    "    return x_pad\n",
    "\n",
    "def overlap_add(signal, win_size, overlap):\n",
    "    \n",
    "    win = sinebell(win_size, overlap)\n",
    "    (temp, num_frames) = signal.shape\n",
    "\n",
    "    if temp != win_size:\n",
    "        print(\"Dimensions of ISTFT are wrong!\")\n",
    "    \n",
    "    pad_len = overlap + num_frames * (win_size - overlap)\n",
    "    x_pad = np.zeros(pad_len, dtype = np.complex128)\n",
    "    \n",
    "     # index of beginning of each frame in x_pad\n",
    "    frame_ind = np.array([i for i in range(num_frames)]) * (win_size - overlap)\n",
    "    \n",
    "    # do we really need the window again here?\n",
    "    x_pad[frame_ind[0]:frame_ind[0] + win_size] = signal[:,0] * win\n",
    "    for i in range(1,num_frames):\n",
    "        x_pad[frame_ind[i]:frame_ind[i] + win_size] = x_pad[frame_ind[i]:frame_ind[i] + win_size] + signal[:,i] * win\n",
    "    return x_pad"
   ]
  },
  {
   "cell_type": "code",
   "execution_count": 5,
   "metadata": {
    "collapsed": false
   },
   "outputs": [],
   "source": [
    "# epsilon divergence\n",
    "def compute_obj(v,W,h,eps):\n",
    "    whv = (np.dot(W,h) + eps)/(v + eps)\n",
    "    div = whv - np.log(whv) - 1 \n",
    "    div = np.array(div)\n",
    "    #print(div.shape)\n",
    "    return np.sum( div )\n",
    "\n",
    "# epsilon divergence gradient\n",
    "def compute_grad(v,W,h,eps):\n",
    "    grad = np.dot(W.T, (1/(v + eps) - 1/(np.dot(W,h) + eps)))\n",
    "    return grad\n",
    "\n",
    "# important! input here has to be the matrix H, not the vector h_t\n",
    "# this is because we need h_t but also h_(t-1) and h_(t+1)\n",
    "# ind_t is the index of h_t in H\n",
    "# lambda is the smoothness constant\n",
    "def compute_smooth_obj(v,W,H,ind_t,lamb,eps):\n",
    "    \n",
    "    # get the column h_t\n",
    "    h = H[:,ind_t]\n",
    "    h = h.reshape(h.shape[0],1)\n",
    "    \n",
    "    # compute regular objective\n",
    "    # maybe doing this direct instead of the function call is faster:\n",
    "    # whv = (np.dot(W,h) + eps)/(v + eps)\n",
    "    # div = whv - np.log(whv) - 1 \n",
    "    div = compute_obj(v,W,h,eps)\n",
    "    \n",
    "    # compute smoothness terms\n",
    "    s1 = H[:,ind_t]/H[:,ind_t-1]\n",
    "    s2 = H[:,ind_t]/H[:,ind_t+1]\n",
    "    sm = s1 - np.log(s1) - 1\n",
    "    sm += s2 - np.log(s2) - 1\n",
    "    # returning properly scaled smooth objective\n",
    "    return div + lamb * np.sum( sm )\n",
    "    \n",
    "# input parameters as above\n",
    "def compute_smooth_grad(v,W,H,ind_t,lamb,eps):\n",
    "    \n",
    "    # get the column h_t\n",
    "    h = H[:,ind_t]\n",
    "    h = h.reshape(h.shape[0],1)\n",
    "    \n",
    "    # calculates gradient of regular divergence\n",
    "    div_grad = compute_grad(v,W,h,eps)\n",
    "\n",
    "    # calculating gradient of smoothness term\n",
    "    sm_grad = 1/H[:,ind_t-1] + 1/H[:,ind_t+1] - 2/H[:,ind_t]\n",
    "    sm_grad = sm_grad.reshape(sm_grad.shape[0],1)\n",
    "    \n",
    "    # returning properly scaled gradient of smooth objective \n",
    "    return div_grad + lamb * sm_grad\n",
    "    "
   ]
  },
  {
   "cell_type": "code",
   "execution_count": 6,
   "metadata": {
    "collapsed": false
   },
   "outputs": [
    {
     "name": "stdout",
     "output_type": "stream",
     "text": [
      "[[ 0.373693  ]\n",
      " [ 0.02465829]]\n",
      "[[ 0.3736934 ]\n",
      " [ 0.02465864]]\n"
     ]
    }
   ],
   "source": [
    "def grad_checker(v, W, h):\n",
    "    eps = 1e-3\n",
    "    (f,k) = W.shape\n",
    "    t_grad = np.zeros(h.shape)\n",
    "    for i in range(k):\n",
    "        ei = np.zeros(h.shape)\n",
    "        ei[i] = eps\n",
    "        t_grad[i] = (compute_obj(v,W,h+ei, 1e-12) - compute_obj(v,W,h-ei,1e-12)) / (2*eps)\n",
    "    print(t_grad)\n",
    "    print(compute_grad(v,W,h,1e-12))\n",
    "    \n",
    "grad_checker(np.random.rand(2,1), np.random.rand(2,2),np.random.rand(2, 1))"
   ]
  },
  {
   "cell_type": "code",
   "execution_count": 7,
   "metadata": {
    "collapsed": false
   },
   "outputs": [
    {
     "name": "stdout",
     "output_type": "stream",
     "text": [
      "[-2.16958254 -2.30892864]\n",
      "[[-2.16956602]\n",
      " [-2.30891368]]\n"
     ]
    }
   ],
   "source": [
    "# second grad checker for smooth objective functions: Works!\n",
    "def grad_checker(v,W,H,ind_t,lamb,eps):\n",
    "    eps_dif = 1e-3\n",
    "    (f,k) = W.shape\n",
    "    t_grad = np.zeros(H[:,ind_t].shape)\n",
    "    for i in range(k):\n",
    "        ei = np.zeros(H.shape)\n",
    "        ei[i,ind_t] = eps_dif\n",
    "        t_grad[i] = (compute_smooth_obj(v,W,H+ei,ind_t,lamb,eps) - compute_smooth_obj(v,W,H-ei,ind_t,lamb,eps)) / (2*eps_dif)\n",
    "    print(t_grad)\n",
    "    print(compute_smooth_grad(v,W,H,ind_t,lamb,eps))\n",
    "grad_checker(np.random.rand(2,1), np.random.rand(2,2),np.random.rand(2, 3),1,1,1e-12)"
   ]
  },
  {
   "cell_type": "code",
   "execution_count": 8,
   "metadata": {
    "collapsed": false
   },
   "outputs": [],
   "source": [
    "def gradient_backtracking(v, W, h, max_iter, compute_grad, compute_obj, eps):\n",
    "    \n",
    "    v = v.reshape(v.shape[0],1)\n",
    "    h = h.reshape(h.shape[0],1)\n",
    "    beta = 0.2 #backstep factor between 0.1 and 0.8\n",
    "    opt_prec = 1-1e-6 # optimization precision\n",
    "    eta = 1e-1 #initial step size\n",
    "    \n",
    "    #obj = [None]*max_iter\n",
    "    \n",
    "    max_backstep = 25 # maximum number of backsteps\n",
    "    t = 0 # backstepping counter\n",
    "    k = 0 # gradient step counter \n",
    "    \n",
    "    old_obj = compute_obj(v,W,h,eps)\n",
    "\n",
    "    while( k < max_iter and t != max_backstep ):\n",
    "        \n",
    "        grad = compute_grad(v,W,h,eps)\n",
    "        #obj[k] = compute_obj(v,W,h,eps)\n",
    "        \n",
    "        t = 0 # reset backstepping counter\n",
    "        eta = 1/beta*eta # try to increase stepsize slightly again\n",
    "        \n",
    "        # make sure h-n*grad is positive\n",
    "        while(any(h - eta * grad < 0)  and t < max_backstep ):\n",
    "            t += 1\n",
    "            eta = beta * eta\n",
    "    \n",
    "        new_obj = compute_obj(v,W,(h - eta*grad),eps)\n",
    "        \n",
    "        while( new_obj > opt_prec * old_obj and t < max_backstep):\n",
    "            t += 1\n",
    "            eta = beta * eta\n",
    "            new_obj = abs(compute_obj(v,W,(h - eta*grad),eps))\n",
    "                      \n",
    "        h = h - eta * grad # update h according to gradient step\n",
    "        k += 1 # update gradient step counter\n",
    "        old_obj = new_obj\n",
    "        \n",
    "    h = h.reshape(h.shape[0],)\n",
    "    return h\n",
    "\n",
    "h = gradient_backtracking(np.random.rand(10,1), np.random.rand(10,2),  np.random.rand(2, 1), 100, compute_grad, compute_obj, 1e-12)\n"
   ]
  },
  {
   "cell_type": "code",
   "execution_count": 9,
   "metadata": {
    "collapsed": false
   },
   "outputs": [],
   "source": [
    "#index = [i for i in range(10)]\n",
    "#plt.title(\"On training data\")\n",
    "#plt.plot([i for i in range(len(obj))], obj)\n"
   ]
  },
  {
   "cell_type": "code",
   "execution_count": 12,
   "metadata": {
    "collapsed": true
   },
   "outputs": [],
   "source": [
    "def online_nmf(spectrum, W, H,A, B, rho, beta, eta, eps):\n",
    "           \n",
    "    a = np.zeros(W.shape)\n",
    "    b = np.zeros(W.shape)\n",
    "    \n",
    "    t = 1\n",
    "    W_old = W + 1.5*eta\n",
    "    k = W.shape[1]\n",
    "    h = np.random.rand(W.shape[1],)\n",
    "    n = spectrum.shape[1]\n",
    "    cost = []\n",
    "    cost.append(compute_obj(spectrum,W,H,eps))\n",
    "    \n",
    "    while np.linalg.norm(W - W_old, ord = \"fro\") > eta:\n",
    "        \n",
    "        t = t+1 \n",
    "        \n",
    "        ind = random.randint(0, n-1)\n",
    "        v = spectrum[:,ind]\n",
    "    \n",
    "        h = gradient_backtracking(v, W, H[:,ind], 100, compute_grad, compute_obj, eps)\n",
    "        \n",
    "        H[:, ind] = h\n",
    "       \n",
    "        h = h.reshape(h.shape[0],1)\n",
    "        v = v.reshape(v.shape[0],1)\n",
    "        den = eps + np.dot(W, h)\n",
    "        \n",
    "        a += np.dot(((eps+v)/(den)**2), h.T) * np.square(W) \n",
    "        \n",
    "        b += np.dot(1/den, h.T)\n",
    "       \n",
    "        if t % beta == 0:\n",
    "            A = A + rho*a\n",
    "            a = 0\n",
    "            B = B + rho*b\n",
    "            b = 0\n",
    "            W_old = W\n",
    "            W = np.sqrt(A/B)\n",
    "            \n",
    "            for i in range(k):\n",
    "                s = np.sum(W[:,i])\n",
    "                W[:,i] = W[:,i]/s\n",
    "                A[:,i] = A[:,i]/s\n",
    "                B[:,i] = B[:,i]*s\n",
    "                #print(i)\n",
    "\n",
    "            #print(np.linalg.norm(compute_obj(spectrum,W_old,H,eps))- compute_obj(spectrum,W,H,eps)) \n",
    "            gc.disable()\n",
    "            cost.append(compute_obj(spectrum,W,H,eps))\n",
    "            gc.enable()\n",
    "            \n",
    "        #cost.append(compute_obj(spectrum,W,H,eps))\n",
    "        if t > 100*n:\n",
    "            print(\" W shape\" , W.shape)\n",
    "            break\n",
    "\n",
    "        #print(\"W\", np.linalg.norm(W[:,1]))\n",
    "        #print(\"H\", np.linalg.norm(H[1]))\n",
    "        #print(compute_obj(spectrum,W,H.T,eps))\n",
    "        \n",
    "    print(\"t\" , t)\n",
    "    return W, H, cost\n"
   ]
  },
  {
   "cell_type": "code",
   "execution_count": 13,
   "metadata": {
    "collapsed": false
   },
   "outputs": [
    {
     "data": {
      "text/plain": [
       "9.9288495889693049"
      ]
     },
     "execution_count": 13,
     "metadata": {},
     "output_type": "execute_result"
    }
   ],
   "source": [
    "np.linalg.norm(spectrum[:,4])"
   ]
  },
  {
   "cell_type": "code",
   "execution_count": 51,
   "metadata": {
    "collapsed": false,
    "scrolled": true
   },
   "outputs": [
    {
     "name": "stdout",
     "output_type": "stream",
     "text": [
      "t 54600\n"
     ]
    }
   ],
   "source": [
    "eps = 1e-12\n",
    "v = spectrum.T[0]\n",
    "K = 10\n",
    "W = abs(np.random.randn(spectrum.shape[0],K) + np.ones((spectrum.shape[0],K)))\n",
    "H = np.zeros((K, spectrum.shape[1]))\n",
    "#abs(np.random.randn(K, spectrum.shape[1]) + np.ones((K, spectrum.shape[1])))\n",
    "\n",
    "A = np.zeros(W.shape)\n",
    "B = np.zeros(W.shape)\n",
    "\n",
    "r = 1\n",
    "beta = 100\n",
    "rho = r**(beta/spectrum.shape[1])\n",
    "W, H, cost = online_nmf(spectrum, W, H, A, B, rho, beta, 1e-4, eps)"
   ]
  },
  {
   "cell_type": "code",
   "execution_count": null,
   "metadata": {
    "collapsed": false
   },
   "outputs": [],
   "source": [
    "import cProfile\n",
    "cProfile.run('online_nmf(spectrum, W, H, A, B, 1, 100, 1e-2, eps)')"
   ]
  },
  {
   "cell_type": "code",
   "execution_count": 278,
   "metadata": {
    "collapsed": false
   },
   "outputs": [],
   "source": [
    "change = []\n",
    "for i in range(1, len(cost)):\n",
    "    change.append(np.linalg.norm(cost[i]-cost[i-1]))"
   ]
  },
  {
   "cell_type": "code",
   "execution_count": 52,
   "metadata": {
    "collapsed": false,
    "scrolled": false
   },
   "outputs": [
    {
     "data": {
      "text/plain": [
       "[<matplotlib.lines.Line2D at 0x10c2ee898>]"
      ]
     },
     "execution_count": 52,
     "metadata": {},
     "output_type": "execute_result"
    },
    {
     "data": {
      "image/png": "[encoded data removed]",
      "text/plain": [
       "<matplotlib.figure.Figure at 0x10a8aa518>"
      ]
     },
     "metadata": {},
     "output_type": "display_data"
    }
   ],
   "source": [
    "plt.plot([i for i in range(len(cost[5:]))], cost[5:])"
   ]
  },
  {
   "cell_type": "code",
   "execution_count": 53,
   "metadata": {
    "collapsed": false
   },
   "outputs": [
    {
     "data": {
      "text/plain": [
       "[<matplotlib.lines.Line2D at 0x10c2f3710>]"
      ]
     },
     "execution_count": 53,
     "metadata": {},
     "output_type": "execute_result"
    },
    {
     "data": {
      "image/png": "[encoded data removed]",
      "text/plain": [
       "<matplotlib.figure.Figure at 0x10a8bd6d8>"
      ]
     },
     "metadata": {},
     "output_type": "display_data"
    }
   ],
   "source": [
    "plt.semilogy([i for i in range(len(cost))], cost)"
   ]
  },
  {
   "cell_type": "code",
   "execution_count": 141,
   "metadata": {
    "collapsed": false
   },
   "outputs": [
    {
     "data": {
      "text/plain": [
       "(129, 10)"
      ]
     },
     "execution_count": 141,
     "metadata": {},
     "output_type": "execute_result"
    }
   ],
   "source": [
    "W.shape"
   ]
  },
  {
   "cell_type": "code",
   "execution_count": 142,
   "metadata": {
    "collapsed": false
   },
   "outputs": [
    {
     "data": {
      "text/plain": [
       "(10, 11263)"
      ]
     },
     "execution_count": 142,
     "metadata": {},
     "output_type": "execute_result"
    }
   ],
   "source": [
    "H.shape"
   ]
  },
  {
   "cell_type": "code",
   "execution_count": 143,
   "metadata": {
    "collapsed": false
   },
   "outputs": [
    {
     "data": {
      "text/plain": [
       "(129, 11263)"
      ]
     },
     "execution_count": 143,
     "metadata": {},
     "output_type": "execute_result"
    }
   ],
   "source": [
    "spectrum.shape"
   ]
  },
  {
   "cell_type": "code",
   "execution_count": 31,
   "metadata": {
    "collapsed": false
   },
   "outputs": [],
   "source": [
    "def get_closest(x, centers):\n",
    "    distances = []\n",
    "    \n",
    "    #get the distance from the point(x) to every centroid\n",
    "    #and get the index of centroid that yields \n",
    "    #the minimum distance \n",
    "    \n",
    "    for mu in centers:\n",
    "        distances.append(np.linalg.norm(x-mu))\n",
    "    index = np.argmin(distances)\n",
    "    \n",
    "    return index, min(distances)\n",
    "\n",
    "def k_means_objective(X, k, C, centers):\n",
    "    \n",
    "    sum_distance = 0\n",
    "    for j in range(k):\n",
    "        for x in X[C==j]:\n",
    "            sum_distance += (np.linalg.norm(x-centers[j]))**2\n",
    "                \n",
    "    return sum_distance"
   ]
  },
  {
   "cell_type": "code",
   "execution_count": 40,
   "metadata": {
    "collapsed": false
   },
   "outputs": [],
   "source": [
    "def mini_batch(X, k, b, max_iter):\n",
    "    v = [0]*k\n",
    "    centers = np.array(random.sample(list(X), k))\n",
    "    distortion = []\n",
    "  \n",
    "    for i in range(max_iter):\n",
    "        M = np.array(random.sample(list(X),b))\n",
    "        C=[0]*len(M)\n",
    "        for i,x in enumerate(M): \n",
    "            index = get_closest(x, centers)[0]\n",
    "            C[i] = index\n",
    "      \n",
    "        \n",
    "        for i, x in enumerate(M):\n",
    "            index = C[i]\n",
    "            v[index]+=1\n",
    "            n = 1/v[index]\n",
    "    \n",
    "            centers[index] = (1- n)*centers[index] + n*x\n",
    "        '''\n",
    "        D=[0]*len(X)\n",
    "        for i in range(len(X)): \n",
    "            index = get_closest(X[i], centers)[0]\n",
    "            D[i] = index\n",
    "        \n",
    "        D = np.array(D)\n",
    "        \n",
    "        distortion.append(k_means_objective(X, k, D, centers))\n",
    "        '''\n",
    "            \n",
    "    return centers"
   ]
  },
  {
   "cell_type": "code",
   "execution_count": 41,
   "metadata": {
    "collapsed": false
   },
   "outputs": [],
   "source": [
    "K = 10\n",
    "centers = mini_batch(spectrum.T, K, 100, 100)\n",
    "centers = np.array(centers)\n",
    "W2 = centers.T"
   ]
  },
  {
   "cell_type": "code",
   "execution_count": 238,
   "metadata": {
    "collapsed": false
   },
   "outputs": [
    {
     "data": {
      "text/plain": [
       "[<matplotlib.lines.Line2D at 0x1154c2b50>]"
      ]
     },
     "execution_count": 238,
     "metadata": {},
     "output_type": "execute_result"
    },
    {
     "data": {
      "image/png": "[encoded data removed]",
      "text/plain": [
       "<matplotlib.figure.Figure at 0x116775cd0>"
      ]
     },
     "metadata": {},
     "output_type": "display_data"
    }
   ],
   "source": [
    "plt.plot([i for i in range(len(distortion))], distortion)"
   ]
  },
  {
   "cell_type": "code",
   "execution_count": 54,
   "metadata": {
    "collapsed": false
   },
   "outputs": [
    {
     "name": "stdout",
     "output_type": "stream",
     "text": [
      " W shape (129, 10)\n",
      "t 112631\n"
     ]
    }
   ],
   "source": [
    "\n",
    "v2 = spectrum[:,0]\n",
    "\n",
    "H2 = np.zeros((K, spectrum.shape[1]))\n",
    "\n",
    "A2 = np.zeros(W2.shape)\n",
    "B2 = np.zeros(W2.shape)\n",
    "\n",
    "eps = 1e-12\n",
    "r = 1\n",
    "beta = 100\n",
    "rho = r**(beta/spectrum.shape[1])\n",
    "W2, H2, cost2 = online_nmf(spectrum, W2, H2, A2, B2, rho, beta, 1e-5, eps)"
   ]
  },
  {
   "cell_type": "code",
   "execution_count": 55,
   "metadata": {
    "collapsed": false,
    "scrolled": false
   },
   "outputs": [
    {
     "data": {
      "text/plain": [
       "[<matplotlib.lines.Line2D at 0x10c10a9b0>]"
      ]
     },
     "execution_count": 55,
     "metadata": {},
     "output_type": "execute_result"
    },
    {
     "data": {
      "image/png": "[encoded data removed]",
      "text/plain": [
       "<matplotlib.figure.Figure at 0x107c64240>"
      ]
     },
     "metadata": {},
     "output_type": "display_data"
    }
   ],
   "source": [
    "plt.plot([i for i in range(len(cost2))], cost2)"
   ]
  },
  {
   "cell_type": "code",
   "execution_count": 184,
   "metadata": {
    "collapsed": false
   },
   "outputs": [
    {
     "data": {
      "text/plain": [
       "27393387.803380556"
      ]
     },
     "execution_count": 184,
     "metadata": {},
     "output_type": "execute_result"
    }
   ],
   "source": [
    "compute_obj(spectrum,W2,H2,eps)"
   ]
  },
  {
   "cell_type": "code",
   "execution_count": 214,
   "metadata": {
    "collapsed": false
   },
   "outputs": [],
   "source": [
    "X = [[1,2,3], [4,5,6]]"
   ]
  },
  {
   "cell_type": "code",
   "execution_count": 215,
   "metadata": {
    "collapsed": false
   },
   "outputs": [
    {
     "data": {
      "text/plain": [
       "array([[ 1,  4,  9],\n",
       "       [16, 25, 36]])"
      ]
     },
     "execution_count": 215,
     "metadata": {},
     "output_type": "execute_result"
    }
   ],
   "source": [
    "np.square(X)"
   ]
  },
  {
   "cell_type": "code",
   "execution_count": null,
   "metadata": {
    "collapsed": true
   },
   "outputs": [],
   "source": []
  }
 ],
 "metadata": {
  "kernelspec": {
   "display_name": "Python 3",
   "language": "python",
   "name": "python3"
  },
  "language_info": {
   "codemirror_mode": {
    "name": "ipython",
    "version": 3
   },
   "file_extension": ".py",
   "mimetype": "text/x-python",
   "name": "python",
   "nbconvert_exporter": "python",
   "pygments_lexer": "ipython3",
   "version": "3.4.3"
  }
 },
 "nbformat": 4,
 "nbformat_minor": 0
}
