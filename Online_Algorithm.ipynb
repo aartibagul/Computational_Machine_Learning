{
 "cells": [
  {
   "cell_type": "code",
   "execution_count": 1,
   "metadata": {
    "collapsed": false
   },
   "outputs": [],
   "source": [
    "import numpy as np\n",
    "from __future__ import division"
   ]
  },
  {
   "cell_type": "code",
   "execution_count": 152,
   "metadata": {
    "collapsed": false
   },
   "outputs": [],
   "source": [
    "%matplotlib inline\n",
    "import wave, struct, numpy as np, matplotlib.mlab as mlab, pylab as pl\n",
    "\n",
    "filename = \"CML_Recording_Both.wav\"\n",
    "w = wave.open(filename,\"rb\")\n",
    "\n",
    "#returns a named tuple (nchannels, sampwidth, framerate, \n",
    "# nframes, comptype, compname)\n",
    "waveParams = w.getparams()\n",
    "\n",
    "s = w.readframes(waveParams[3])\n",
    "w.close()\n",
    "waveArray = np.fromstring(s, np.int16)\n",
    "\n",
    "spectrum, freq, bins = mlab.specgram(waveArray, NFFT=256,Fs=waveParams[2],sides='onesided')\n"
   ]
  },
  {
   "cell_type": "code",
   "execution_count": 153,
   "metadata": {
    "collapsed": false
   },
   "outputs": [
    {
     "data": {
      "text/plain": [
       "(129, 11263)"
      ]
     },
     "execution_count": 153,
     "metadata": {},
     "output_type": "execute_result"
    }
   ],
   "source": [
    "spectrum.shape"
   ]
  },
  {
   "cell_type": "code",
   "execution_count": 187,
   "metadata": {
    "collapsed": false
   },
   "outputs": [],
   "source": [
    "import numpy as np\n",
    "\n",
    "# divergence\n",
    "def div(v,W,h):\n",
    "    whv = np.dot(W,h) * 1/v\n",
    "    div = whv - np.log10(whv) - 1\n",
    "    div = np.dot( div, np.ones(div.shape) )\n",
    "    return div\n",
    "\n",
    "# divergence gradient\n",
    "def div_grad(v,W,h):\n",
    "    grad = np.dot( 1/v - 1/(np.dot(W,h)) , W)\n",
    "    return grad\n",
    "\n",
    "# epsilon divergence\n",
    "def compute_obj(v,W,h,eps):\n",
    "    \n",
    "    whv = (np.dot(W,h) + eps)/(v + eps)\n",
    "    if any(whv < 0):\n",
    "        print(W)\n",
    "        print(h)\n",
    "        print(v)\n",
    "        print('whv: ' + str(whv))\n",
    "    #print('whv.shape: ' + str(whv.shape))\n",
    "    #print('np.dot(W,h): ' + str(np.dot(W,h)))\n",
    "    div = whv - np.log10(whv) - 1\n",
    "    #print(div)\n",
    "    return np.sum( div )\n",
    "\n",
    "# epsilon divergence gradient\n",
    "def compute_grad(v,W,h,eps):\n",
    "    #print('compute_grad start')\n",
    "    #print('W.shape: ' + str(W.shape))\n",
    "    #print('h.shape: ' + str(h.shape))\n",
    "    #print('v.shape: ' + str(v.shape))\n",
    "    #print('np.dot(W,h).shape: ' + str( (np.dot(W,h) + eps).shape ) )\n",
    "    #print((1/(v + eps) - 1/(np.dot(W,h) + eps)).shape)\n",
    "    grad = np.dot(W.T, (1/(v + eps) - 1/(np.dot(W,h) + eps)))\n",
    "    #print('compute_grad end')\n",
    "    return grad\n",
    "\n",
    "def itakura_saito(y,x):\n",
    "    y = np.array(y)\n",
    "    x = np.array(x)\n",
    "    return np.dot((y/x - np.log(y/x) -1) , np.ones(y.shape))\n",
    "    \n",
    "def get_h(eps,W,H, v):\n",
    "    \n",
    "    div = [0]* H.T.shape[0]\n",
    "    for i, h in enumerate(H.T):\n",
    "        div[i] = itakura_saito(eps+v, eps+np.dot(W,h))\n",
    "    \n",
    "    index = np.argmin(div)\n",
    "    return np.array(H.T[index])"
   ]
  },
  {
   "cell_type": "code",
   "execution_count": 216,
   "metadata": {
    "collapsed": false
   },
   "outputs": [
    {
     "name": "stdout",
     "output_type": "stream",
     "text": [
      "[[ 0.001]\n",
      " [ 0.   ]]\n",
      "[[ 0.   ]\n",
      " [ 0.001]]\n",
      "[[ 22.65781217]\n",
      " [  7.41270636]]\n",
      "[[ 20.67899693]\n",
      " [  6.92498441]]\n",
      "[[ 1.09569203]\n",
      " [ 1.07042932]]\n"
     ]
    }
   ],
   "source": [
    "def grad_checker(v, W, h):\n",
    "    eps = 1e-3\n",
    "    (f,k) = W.shape\n",
    "    t_grad = np.zeros(h.shape)\n",
    "    for i in range(k):\n",
    "        ei = np.zeros(h.shape)\n",
    "        ei[i] = eps\n",
    "        print(ei)\n",
    "        t_grad[i] = (compute_obj(v,W,h+ei, 1e-12) - compute_obj(v,W,h-ei,1e-12)) / (2*eps)\n",
    "    print(t_grad)\n",
    "    print(compute_grad(v,W,h,1e-12))\n",
    "    print(t_grad/compute_grad(v,W,h,1e-12))\n",
    "grad_checker(np.random.rand(2,1), np.random.rand(2,2),np.random.rand(2, 1))"
   ]
  },
  {
   "cell_type": "code",
   "execution_count": 237,
   "metadata": {
    "collapsed": false
   },
   "outputs": [
    {
     "name": "stdout",
     "output_type": "stream",
     "text": [
      "t to positive value: 0\n",
      "old_obj: 3.19794326492\n",
      "t to better objective =  0\n",
      "H is  [[ 0.27848951]\n",
      " [ 0.45710442]]\n",
      "t to positive value: 0\n",
      "old_obj: 2.58092696399\n",
      "t to better objective =  0\n",
      "H is  [[ 0.26515346]\n",
      " [ 0.43009119]]\n",
      "t to positive value: 0\n",
      "old_obj: 2.18615410094\n",
      "t to better objective =  0\n",
      "H is  [[ 0.2594665]\n",
      " [ 0.4111375]]\n",
      "t to positive value: 0\n",
      "old_obj: 1.94825920757\n",
      "t to better objective =  0\n",
      "H is  [[ 0.25880728]\n",
      " [ 0.39767799]]\n",
      "t to positive value: 0\n",
      "old_obj: 1.81050375511\n",
      "t to better objective =  0\n",
      "H is  [[ 0.26109504]\n",
      " [ 0.38766299]]\n",
      "t to positive value: 0\n",
      "old_obj: 1.73187906991\n",
      "t to better objective =  0\n",
      "H is  [[ 0.26494576]\n",
      " [ 0.37971617]]\n",
      "t to positive value: 0\n",
      "old_obj: 1.68644636467\n",
      "t to better objective =  0\n",
      "H is  [[ 0.26953897]\n",
      " [ 0.37301036]]\n",
      "t to positive value: 0\n",
      "old_obj: 1.65917607057\n",
      "t to better objective =  0\n",
      "H is  [[ 0.27442136]\n",
      " [ 0.3670788 ]]\n",
      "t to positive value: 0\n",
      "old_obj: 1.6417997862\n",
      "t to better objective =  0\n",
      "H is  [[ 0.2793531 ]\n",
      " [ 0.36166585]]\n",
      "t to positive value: 0\n",
      "old_obj: 1.62989130646\n",
      "t to better objective =  0\n",
      "H is  [[ 0.28421125]\n",
      " [ 0.35663226]]\n",
      "t to positive value: 0\n",
      "old_obj: 1.62110783792\n",
      "t to better objective =  0\n",
      "H is  [[ 0.28893484]\n",
      " [ 0.35190104]]\n",
      "t to positive value: 0\n",
      "old_obj: 1.61420913885\n",
      "t to better objective =  0\n",
      "H is  [[ 0.2934953 ]\n",
      " [ 0.34742795]]\n",
      "t to positive value: 0\n",
      "old_obj: 1.6085316116\n",
      "t to better objective =  0\n",
      "H is  [[ 0.29788081]\n",
      " [ 0.34318591]]\n",
      "t to positive value: 0\n",
      "old_obj: 1.60371191124\n",
      "t to better objective =  0\n",
      "H is  [[ 0.30208821]\n",
      " [ 0.33915686]]\n",
      "t to positive value: 0\n",
      "old_obj: 1.59954313762\n",
      "t to better objective =  0\n",
      "H is  [[ 0.30611875]\n",
      " [ 0.33532749]]\n",
      "t to positive value: 0\n",
      "old_obj: 1.5959003711\n",
      "t to better objective =  0\n",
      "H is  [[ 0.30997596]\n",
      " [ 0.33168707]]\n",
      "t to positive value: 0\n",
      "old_obj: 1.59270218898\n",
      "t to better objective =  0\n",
      "H is  [[ 0.31366452]\n",
      " [ 0.3282263 ]]\n",
      "t to positive value: 0\n",
      "old_obj: 1.58989077716\n",
      "t to better objective =  0\n",
      "H is  [[ 0.31718965]\n",
      " [ 0.32493673]]\n",
      "t to positive value: 0\n",
      "old_obj: 1.5874216325\n",
      "t to better objective =  0\n",
      "H is  [[ 0.32055684]\n",
      " [ 0.32181048]]\n",
      "t to positive value: 0\n",
      "old_obj: 1.58525820644\n",
      "t to better objective =  0\n",
      "H is  [[ 0.32377165]\n",
      " [ 0.31884008]]\n",
      "t to positive value: 0\n",
      "old_obj: 1.58336909278\n",
      "t to better objective =  0\n",
      "H is  [[ 0.32683965]\n",
      " [ 0.31601838]]\n",
      "t to positive value: 0\n",
      "old_obj: 1.58172652498\n",
      "t to better objective =  0\n",
      "H is  [[ 0.32976635]\n",
      " [ 0.31333852]]\n",
      "t to positive value: 0\n",
      "old_obj: 1.58030554755\n",
      "t to better objective =  0\n",
      "H is  [[ 0.33255719]\n",
      " [ 0.3107939 ]]\n",
      "t to positive value: 0\n",
      "old_obj: 1.57908353455\n",
      "t to better objective =  0\n",
      "H is  [[ 0.33521749]\n",
      " [ 0.30837819]]\n",
      "t to positive value: 0\n",
      "old_obj: 1.57803988754\n",
      "t to better objective =  0\n",
      "H is  [[ 0.33775248]\n",
      " [ 0.3060853 ]]\n",
      "t to positive value: 0\n",
      "old_obj: 1.57715582675\n",
      "t to better objective =  0\n",
      "H is  [[ 0.34016724]\n",
      " [ 0.30390936]]\n",
      "t to positive value: 0\n",
      "old_obj: 1.57641423161\n",
      "t to better objective =  0\n",
      "H is  [[ 0.34246674]\n",
      " [ 0.30184477]]\n",
      "t to positive value: 0\n",
      "old_obj: 1.57579950833\n",
      "t to better objective =  0\n",
      "H is  [[ 0.34465582]\n",
      " [ 0.29988613]]\n",
      "t to positive value: 0\n",
      "old_obj: 1.57529747317\n",
      "t to better objective =  0\n",
      "H is  [[ 0.34673917]\n",
      " [ 0.2980283 ]]\n",
      "t to positive value: 0\n",
      "old_obj: 1.57489524588\n",
      "t to better objective =  0\n",
      "H is  [[ 0.34872134]\n",
      " [ 0.29626632]]\n",
      "t to positive value: 0\n",
      "old_obj: 1.57458115051\n",
      "t to better objective =  0\n",
      "H is  [[ 0.35060674]\n",
      " [ 0.29459547]]\n",
      "t to positive value: 0\n",
      "old_obj: 1.57434462227\n",
      "t to better objective =  0\n",
      "H is  [[ 0.35239965]\n",
      " [ 0.29301123]]\n",
      "t to positive value: 0\n",
      "old_obj: 1.57417611979\n",
      "t to better objective =  0\n",
      "H is  [[ 0.35410418]\n",
      " [ 0.29150928]]\n",
      "t to positive value: 0\n",
      "old_obj: 1.57406704257\n",
      "t to better objective =  0\n",
      "H is  [[ 0.35572432]\n",
      " [ 0.29008551]]\n",
      "t to positive value: 0\n",
      "old_obj: 1.5740096533\n",
      "t to better objective =  0\n",
      "H is  [[ 0.3572639 ]\n",
      " [ 0.28873598]]\n",
      "t to positive value: 0\n",
      "old_obj: 1.5739970051\n",
      "new_obj: 1.57400889259\n",
      "new_obj: 1.57400268736\n",
      "new_obj: 1.57399978088\n",
      "new_obj: 1.57399837665\n",
      "new_obj: 1.57399768679\n",
      "new_obj: 1.57399734492\n",
      "new_obj: 1.57399717476\n",
      "new_obj: 1.57399708986\n",
      "new_obj: 1.57399704746\n",
      "new_obj: 1.57399702628\n",
      "new_obj: 1.57399701569\n",
      "new_obj: 1.57399701039\n",
      "new_obj: 1.57399700774\n",
      "new_obj: 1.57399700642\n",
      "new_obj: 1.57399700576\n",
      "new_obj: 1.57399700543\n",
      "new_obj: 1.57399700526\n",
      "new_obj: 1.57399700518\n",
      "new_obj: 1.57399700514\n",
      "new_obj: 1.57399700512\n",
      "new_obj: 1.57399700511\n",
      "new_obj: 1.5739970051\n",
      "new_obj: 1.5739970051\n",
      "new_obj: 1.5739970051\n",
      "new_obj: 1.5739970051\n",
      "new_obj: 1.5739970051\n",
      "new_obj: 1.5739970051\n",
      "new_obj: 1.5739970051\n",
      "new_obj: 1.5739970051\n",
      "new_obj: 1.5739970051\n",
      "new_obj: 1.5739970051\n",
      "new_obj: 1.5739970051\n",
      "new_obj: 1.5739970051\n",
      "new_obj: 1.5739970051\n",
      "new_obj: 1.5739970051\n",
      "new_obj: 1.5739970051\n",
      "new_obj: 1.5739970051\n",
      "t to better objective =  37\n",
      "H is  [[ 0.3572639 ]\n",
      " [ 0.28873598]]\n",
      "t to positive value: 0\n",
      "old_obj: 1.5739970051\n",
      "new_obj: 1.5739970051\n",
      "new_obj: 1.5739970051\n",
      "t to better objective =  2\n",
      "H is  [[ 0.3572639 ]\n",
      " [ 0.28873598]]\n",
      "t to positive value: 0\n",
      "old_obj: 1.5739970051\n",
      "new_obj: 1.5739970051\n",
      "new_obj: 1.5739970051\n",
      "new_obj: 1.5739970051\n",
      "new_obj: 1.5739970051\n",
      "t to better objective =  4\n",
      "H is  [[ 0.3572639 ]\n",
      " [ 0.28873598]]\n",
      "t to positive value: 0\n",
      "old_obj: 1.5739970051\n",
      "new_obj: 1.5739970051\n",
      "new_obj: 1.5739970051\n",
      "new_obj: 1.5739970051\n",
      "new_obj: 1.5739970051\n",
      "new_obj: 1.5739970051\n",
      "new_obj: 1.5739970051\n",
      "new_obj: 1.5739970051\n",
      "new_obj: 1.5739970051\n",
      "new_obj: 1.5739970051\n",
      "new_obj: 1.5739970051\n",
      "new_obj: 1.5739970051\n",
      "new_obj: 1.5739970051\n",
      "new_obj: 1.5739970051\n",
      "new_obj: 1.5739970051\n",
      "new_obj: 1.5739970051\n",
      "new_obj: 1.5739970051\n",
      "new_obj: 1.5739970051\n",
      "new_obj: 1.5739970051\n",
      "new_obj: 1.5739970051\n",
      "new_obj: 1.5739970051\n",
      "new_obj: 1.5739970051\n",
      "new_obj: 1.5739970051\n",
      "new_obj: 1.5739970051\n",
      "new_obj: 1.5739970051\n",
      "new_obj: 1.5739970051\n",
      "new_obj: 1.5739970051\n",
      "new_obj: 1.5739970051\n",
      "new_obj: 1.5739970051\n",
      "new_obj: 1.5739970051\n",
      "new_obj: 1.5739970051\n",
      "new_obj: 1.5739970051\n",
      "new_obj: 1.5739970051\n",
      "new_obj: 1.5739970051\n",
      "new_obj: 1.5739970051\n",
      "new_obj: 1.5739970051\n",
      "new_obj: 1.5739970051\n",
      "new_obj: 1.5739970051\n",
      "new_obj: 1.5739970051\n",
      "new_obj: 1.5739970051\n",
      "new_obj: 1.5739970051\n",
      "new_obj: 1.5739970051\n",
      "new_obj: 1.5739970051\n",
      "new_obj: 1.5739970051\n",
      "new_obj: 1.5739970051\n",
      "new_obj: 1.5739970051\n",
      "new_obj: 1.5739970051\n",
      "new_obj: 1.5739970051\n",
      "new_obj: 1.5739970051\n",
      "new_obj: 1.5739970051\n",
      "new_obj: 1.5739970051\n",
      "new_obj: 1.5739970051\n",
      "new_obj: 1.5739970051\n",
      "new_obj: 1.5739970051\n",
      "new_obj: 1.5739970051\n",
      "new_obj: 1.5739970051\n",
      "new_obj: 1.5739970051\n",
      "new_obj: 1.5739970051\n",
      "new_obj: 1.5739970051\n",
      "new_obj: 1.5739970051\n",
      "new_obj: 1.5739970051\n",
      "new_obj: 1.5739970051\n",
      "new_obj: 1.5739970051\n",
      "new_obj: 1.5739970051\n",
      "new_obj: 1.5739970051\n",
      "new_obj: 1.5739970051\n",
      "new_obj: 1.5739970051\n",
      "new_obj: 1.5739970051\n",
      "new_obj: 1.5739970051\n",
      "new_obj: 1.5739970051\n",
      "new_obj: 1.5739970051\n",
      "new_obj: 1.5739970051\n",
      "new_obj: 1.5739970051\n",
      "new_obj: 1.5739970051\n",
      "new_obj: 1.5739970051\n",
      "new_obj: 1.5739970051\n",
      "new_obj: 1.5739970051\n",
      "new_obj: 1.5739970051\n",
      "new_obj: 1.5739970051\n",
      "new_obj: 1.5739970051\n",
      "new_obj: 1.5739970051\n",
      "new_obj: 1.5739970051\n",
      "new_obj: 1.5739970051\n",
      "new_obj: 1.5739970051\n",
      "new_obj: 1.5739970051\n",
      "new_obj: 1.5739970051\n",
      "new_obj: 1.5739970051\n",
      "new_obj: 1.5739970051\n",
      "new_obj: 1.5739970051\n",
      "new_obj: 1.5739970051\n",
      "new_obj: 1.5739970051\n",
      "new_obj: 1.5739970051\n",
      "new_obj: 1.5739970051\n",
      "new_obj: 1.5739970051\n",
      "new_obj: 1.5739970051\n",
      "new_obj: 1.5739970051\n",
      "new_obj: 1.5739970051\n",
      "new_obj: 1.5739970051\n",
      "new_obj: 1.5739970051\n",
      "new_obj: 1.5739970051\n",
      "new_obj: 1.5739970051\n",
      "t to better objective =  100\n",
      "H is  [[ 0.3572639 ]\n",
      " [ 0.28873598]]\n"
     ]
    }
   ],
   "source": [
    "def gradient_backtracking(max_iter, W,  v, compute_grad, compute_obj, eps):\n",
    "    \n",
    "    v = v.reshape(v.shape[0],1)\n",
    "  \n",
    "    alpha = 0.1 # chosen between 0.01 and 0.3\n",
    "    beta = 0.5 #between 0.1 and 0.8\n",
    "    \n",
    "    n = 1e-2 #initial step size\n",
    "    \n",
    "    h = np.random.rand(2, 1)\n",
    "    obj = [None]*max_iter\n",
    "    \n",
    "    max_backstep = 100\n",
    "    t = 0\n",
    "    k = 0\n",
    "    while( k < max_iter and t != max_backstep ):\n",
    "        grad = compute_grad(v,W,h,eps)\n",
    "        obj[k] = compute_obj(v,W,h,eps)\n",
    "        \n",
    "        t = 0\n",
    "        # make sure h-n*grad is positive\n",
    "        while(any(h - n * grad < 0)  and t < max_backstep ):\n",
    "            t += 1\n",
    "            n = beta * n\n",
    "            \n",
    "        print('t to positive value: ' + str(t))\n",
    "        print('old_obj: ' + str(compute_obj(v,W,h,eps)))\n",
    "        new_obj = compute_obj(v,W,(h - n*grad),eps)\n",
    "        while( new_obj >= compute_obj(v,W,h,eps) and t < max_backstep):\n",
    "            t += 1\n",
    "            n = beta * n\n",
    "            new_obj = abs(compute_obj(v,W,(h - n*grad),eps))\n",
    "            print('new_obj: ' + str(new_obj))\n",
    "              \n",
    "        print (\"t to better objective = \", t)\n",
    "        \n",
    "        h = h - n * grad\n",
    "      \n",
    "        print (\"H is \" , h)\n",
    "        k += 1\n",
    "    return h, obj[0:k]\n",
    "\n",
    "h, obj = gradient_backtracking(50, np.random.rand(10,2),   np.random.rand(10,1), compute_grad, compute_obj, 1e-12)"
   ]
  },
  {
   "cell_type": "code",
   "execution_count": 238,
   "metadata": {
    "collapsed": false,
    "scrolled": true
   },
   "outputs": [
    {
     "name": "stdout",
     "output_type": "stream",
     "text": [
      "[3.1979432649182726, 2.5809269639915962, 2.1861541009429608, 1.9482592075678364, 1.8105037551143139, 1.7318790699086741, 1.6864463646728525, 1.659176070567947, 1.6417997862004381, 1.6298913064649958, 1.6211078379231205, 1.6142091388485604, 1.6085316116043162, 1.6037119112377587, 1.5995431376185993, 1.595900371101199, 1.5927021889807502, 1.5898907771557202, 1.5874216324972197, 1.5852582064414475, 1.5833690927802997, 1.5817265249830701, 1.5803055475465175, 1.5790835345484577, 1.5780398875420678, 1.5771558267515338, 1.576414231614615, 1.5757995083337204, 1.5752974731722797, 1.5748952458828875, 1.574581150513771, 1.5743446222685802, 1.574176119791012, 1.5740670425706016, 1.5740096533045032, 1.5739970050972909, 1.5739970050972905, 1.5739970050972902, 1.57399700509729]\n"
     ]
    },
    {
     "data": {
      "image/png": "[encoded data removed]",
      "text/plain": [
       "<matplotlib.figure.Figure at 0x10e312e48>"
      ]
     },
     "metadata": {},
     "output_type": "display_data"
    }
   ],
   "source": [
    "import matplotlib.pyplot as plt\n",
    "\n",
    "index = [i for i in range(10)]\n",
    "plt.title(\"On training data\")\n",
    "plt.plot([i for i in range(len(obj))], obj)\n",
    "\n",
    "print(obj)"
   ]
  },
  {
   "cell_type": "code",
   "execution_count": null,
   "metadata": {
    "collapsed": false
   },
   "outputs": [],
   "source": [
    "import random\n",
    "def online_nmf(spectrum, W, H,A, B, rho, beta, n, eps):\n",
    "    A_list = []\n",
    "    B_list = []\n",
    "   \n",
    "    a = np.zeros(W.shape)\n",
    "    b = np.zeros(W.shape)\n",
    "\n",
    "    t = 1\n",
    "    W_old = W\n",
    "    k = W.shape[1]\n",
    "    while np.linalg.norm(W - W_old, ord = \"fro\") < n:\n",
    "        t = t+1 \n",
    "        \n",
    "        ind = random.randint(0, len(spectrum.T))\n",
    "        v = spectrum.T[ind]\n",
    "        h = get_h(eps,W,H, v)\n",
    "        h = h.reshape(h.shape[0],1)\n",
    "        v = v.reshape(v.shape[0],1)\n",
    "        den = eps + np.dot(W, h)\n",
    "        \n",
    "        a += np.dot(np.dot(((eps+v)/(den**2)), h.T), np.dot(W.T,W))\n",
    "        b += np.dot(1/den, h.T)\n",
    "        \n",
    "        if t % beta == 0:\n",
    "            A = A + rho*a\n",
    "            a = 0\n",
    "            B = B + rho*b\n",
    "            b = 0\n",
    "            W_old = W\n",
    "            W = np.sqrt(A/B)\n",
    "            \n",
    "            W = np.array([x/sum(x) for x in zip(*W)]).T\n",
    "            A = np.array([x/sum(x) for x in zip(*A)]).T\n",
    "            B = np.array([x*sum(x) for x in zip(*B)]).T\n",
    "            \n",
    "        if t > 30:\n",
    "            print(W.shape)\n",
    "            break\n",
    "\n",
    "eps = 1e-12\n",
    "v = spectrum.T[0]\n",
    "K = 2\n",
    "W = np.random.rand(spectrum.shape[0],K)\n",
    "H = np.zeros((K, spectrum.shape[1]))\n",
    "\n",
    "A = np.zeros(W.shape)\n",
    "B = np.zeros(W.shape)\n",
    "\n",
    "\n",
    "online_nmf(spectrum, W, H, A, B, 0.5, 100, 1e-3, eps)"
   ]
  },
  {
   "cell_type": "code",
   "execution_count": null,
   "metadata": {
    "collapsed": true
   },
   "outputs": [],
   "source": [
    "eps = 1e-12\n",
    "random.seed(12222015)"
   ]
  },
  {
   "cell_type": "code",
   "execution_count": 92,
   "metadata": {
    "collapsed": false
   },
   "outputs": [],
   "source": [
    "s = [sum(x) for x in zip(*W)]\n",
    "W = [sum(x) for x in zip(*W)]"
   ]
  },
  {
   "cell_type": "code",
   "execution_count": 93,
   "metadata": {
    "collapsed": false
   },
   "outputs": [
    {
     "data": {
      "text/plain": [
       "(1, 129)"
      ]
     },
     "execution_count": 93,
     "metadata": {},
     "output_type": "execute_result"
    }
   ],
   "source": [
    "p.shape"
   ]
  },
  {
   "cell_type": "code",
   "execution_count": 245,
   "metadata": {
    "collapsed": false
   },
   "outputs": [],
   "source": [
    "W = np.array([[1,1], [1,2], [2,2]])\n",
    "X = [1,2]\n",
    "\n"
   ]
  },
  {
   "cell_type": "code",
   "execution_count": 246,
   "metadata": {
    "collapsed": false
   },
   "outputs": [
    {
     "data": {
      "text/plain": [
       "array([[1, 1],\n",
       "       [1, 2],\n",
       "       [2, 2]])"
      ]
     },
     "execution_count": 246,
     "metadata": {},
     "output_type": "execute_result"
    }
   ],
   "source": [
    "W"
   ]
  },
  {
   "cell_type": "code",
   "execution_count": 237,
   "metadata": {
    "collapsed": false
   },
   "outputs": [
    {
     "name": "stdout",
     "output_type": "stream",
     "text": [
      "[ 0.25  0.25  0.5 ]\n",
      "[0 0 0]\n",
      "[ 0.2  0.4  0.4]\n",
      "[0 0 0]\n"
     ]
    }
   ],
   "source": [
    "X = W.T\n",
    "for i in range(2):\n",
    "    \n",
    "    col_sum = X[i].sum()\n",
    "    print(X[i]/col_sum)\n",
    "    X[i] = (X[i]/col_sum)\n",
    "    print(X[i])\n"
   ]
  },
  {
   "cell_type": "code",
   "execution_count": 251,
   "metadata": {
    "collapsed": false
   },
   "outputs": [],
   "source": [
    "z = np.array([x/sum(x) for x in zip(*W)])"
   ]
  },
  {
   "cell_type": "code",
   "execution_count": 252,
   "metadata": {
    "collapsed": false
   },
   "outputs": [
    {
     "data": {
      "text/plain": [
       "array([[ 0.25,  0.2 ],\n",
       "       [ 0.25,  0.4 ],\n",
       "       [ 0.5 ,  0.4 ]])"
      ]
     },
     "execution_count": 252,
     "metadata": {},
     "output_type": "execute_result"
    }
   ],
   "source": [
    "z.T"
   ]
  },
  {
   "cell_type": "code",
   "execution_count": null,
   "metadata": {
    "collapsed": true
   },
   "outputs": [],
   "source": [
    "import numpy as np\n",
    "\n",
    "# divergence\n",
    "def div(v,W,h):\n",
    "    whv = np.dot(W,h) * 1/v\n",
    "    div = whv - np.log10(whv) - 1\n",
    "    div = np.dot( div, np.ones )\n",
    "    return div\n",
    "\n",
    "# divergence gradient\n",
    "def div_grad(v,W,h):\n",
    "    grad = np.dot( 1/v - 1/(np.dot(W,h)) , W)\n",
    "    return grad\n",
    "\n",
    "# epsilon divergence\n",
    "def eps_div(v,W,h,eps):\n",
    "    whv = (np.dot(W,h) + eps) * 1/(v + eps)\n",
    "    div = whv - np.log10(whv) - 1\n",
    "    div = np.dot( div, np.ones )\n",
    "    return div\n",
    "\n",
    "# epsilon divergence gradient\n",
    "def eps_div_grad(v,W,h,eps):\n",
    "    grad = np.dot( 1/(v + eps) - 1/(np.dot(W,h) + eps), W)\n",
    "    return grad"
   ]
  }
 ],
 "metadata": {
  "kernelspec": {
   "display_name": "Python 3",
   "language": "python",
   "name": "python3"
  },
  "language_info": {
   "codemirror_mode": {
    "name": "ipython",
    "version": 3
   },
   "file_extension": ".py",
   "mimetype": "text/x-python",
   "name": "python",
   "nbconvert_exporter": "python",
   "pygments_lexer": "ipython3",
   "version": "3.4.3"
  }
 },
 "nbformat": 4,
 "nbformat_minor": 0
}
