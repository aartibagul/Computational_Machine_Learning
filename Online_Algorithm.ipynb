{
 "cells": [
  {
   "cell_type": "code",
   "execution_count": 50,
   "metadata": {
    "collapsed": false
   },
   "outputs": [],
   "source": [
    "import numpy as np\n",
    "from __future__ import division"
   ]
  },
  {
   "cell_type": "code",
   "execution_count": 51,
   "metadata": {
    "collapsed": false
   },
   "outputs": [],
   "source": [
    "%matplotlib inline\n",
    "import wave, struct, numpy as np, matplotlib.mlab as mlab, pylab as pl\n",
    "\n",
    "filename = \"CML_Recording_Both.wav\"\n",
    "w = wave.open(filename,\"rb\")\n",
    "\n",
    "#returns a named tuple (nchannels, sampwidth, framerate, \n",
    "# nframes, comptype, compname)\n",
    "waveParams = w.getparams()\n",
    "\n",
    "s = w.readframes(waveParams[3])\n",
    "w.close()\n",
    "waveArray = np.fromstring(s, np.int16)\n",
    "\n",
    "spectrum, freq, bins = mlab.specgram(waveArray, NFFT=256,Fs=waveParams[2],sides='onesided')\n"
   ]
  },
  {
   "cell_type": "code",
   "execution_count": 52,
   "metadata": {
    "collapsed": false
   },
   "outputs": [
    {
     "data": {
      "text/plain": [
       "(129, 11263)"
      ]
     },
     "execution_count": 52,
     "metadata": {},
     "output_type": "execute_result"
    }
   ],
   "source": [
    "spectrum.shape"
   ]
  },
  {
   "cell_type": "code",
   "execution_count": 53,
   "metadata": {
    "collapsed": false
   },
   "outputs": [],
   "source": [
    "import numpy as np\n",
    "\n",
    "# divergence\n",
    "def div(v,W,h):\n",
    "    whv = np.dot(W,h) * 1/v\n",
    "    div = whv - np.log10(whv) - 1\n",
    "    div = np.dot( div, np.ones(div.shape) )\n",
    "    return div\n",
    "\n",
    "# divergence gradient\n",
    "def div_grad(v,W,h):\n",
    "    grad = np.dot( 1/v - 1/(np.dot(W,h)) , W)\n",
    "    return grad\n",
    "\n",
    "# epsilon divergence\n",
    "def compute_obj(v,W,h,eps):\n",
    "    print(W.shape)\n",
    "    print(h.shape)\n",
    "    whv = (np.dot(W,h) + eps)/(v + eps)\n",
    "    print('whv.shape: ' + str(whv.shape))\n",
    "    print('np.dot(W,h): ' + str(np.dot(W,h).shape))\n",
    "    div = whv - np.log10(whv) - 1\n",
    "    #print(div)\n",
    "    return np.sum( div )\n",
    "\n",
    "# epsilon divergence gradient\n",
    "def compute_grad(v,W,h,eps):\n",
    "    print('compute_grad start')\n",
    "    print('W.shape: ' + str(W.shape))\n",
    "    print('h.shape: ' + str(h.shape))\n",
    "    print('v.shape: ' + str(v.shape))\n",
    "    print('np.dot(W,h).shape: ' + str( (np.dot(W,h) + eps).shape ) )\n",
    "    print((1/(v + eps) - 1/(np.dot(W,h) + eps)).shape)\n",
    "    grad = np.dot(W.T, (1/(v + eps) - 1/(np.dot(W,h) + eps)))\n",
    "    print('compute_grad end')\n",
    "    return grad\n",
    "\n",
    "def itakura_saito(y,x):\n",
    "    y = np.array(y)\n",
    "    x = np.array(x)\n",
    "    return np.dot((y/x - np.log(y/x) -1) , np.ones(y.shape))\n",
    "    \n",
    "def get_h(eps,W,H, v):\n",
    "    \n",
    "    \n",
    "    div = [0]* H.T.shape[0]\n",
    "    for i, h in enumerate(H.T):\n",
    "        div[i] = itakura_saito(eps+v, eps+np.dot(W,h))\n",
    "    \n",
    "    index = np.argmin(div)\n",
    "    return np.array(H.T[index])\n",
    "\n"
   ]
  },
  {
   "cell_type": "code",
   "execution_count": 84,
   "metadata": {
    "collapsed": false
   },
   "outputs": [
    {
     "name": "stdout",
     "output_type": "stream",
     "text": [
      "compute_grad start\n",
      "W.shape: (10, 2)\n",
      "h.shape: (2, 1)\n",
      "v.shape: (10, 1)\n",
      "np.dot(W,h).shape: (10, 1)\n",
      "(10, 1)\n",
      "compute_grad end\n",
      "(10, 2)\n",
      "(2, 1)\n",
      "whv.shape: (10, 1)\n",
      "np.dot(W,h): (10, 1)\n",
      "grad.shape: (2, 1)\n",
      "(10, 2)\n",
      "(2, 1)\n",
      "whv.shape: (10, 1)\n",
      "np.dot(W,h): (10, 1)\n",
      "(10, 2)\n",
      "(2, 1)\n",
      "whv.shape: (10, 1)\n",
      "np.dot(W,h): (10, 1)\n",
      "('t = ', 0)\n",
      "compute_grad start\n",
      "W.shape: (10, 2)\n",
      "h.shape: (2, 1)\n",
      "v.shape: (10, 1)\n",
      "np.dot(W,h).shape: (10, 1)\n",
      "(10, 1)\n",
      "compute_grad end\n",
      "('H is ', array([[ 0.94448511],\n",
      "       [ 0.83105604]]))\n",
      "compute_grad start\n",
      "W.shape: (10, 2)\n",
      "h.shape: (2, 1)\n",
      "v.shape: (10, 1)\n",
      "np.dot(W,h).shape: (10, 1)\n",
      "(10, 1)\n",
      "compute_grad end\n",
      "(10, 2)\n",
      "(2, 1)\n",
      "whv.shape: (10, 1)\n",
      "np.dot(W,h): (10, 1)\n",
      "grad.shape: (2, 1)\n",
      "(10, 2)\n",
      "(2, 1)\n",
      "whv.shape: (10, 1)\n",
      "np.dot(W,h): (10, 1)\n",
      "(10, 2)\n",
      "(2, 1)\n",
      "whv.shape: (10, 1)\n",
      "np.dot(W,h): (10, 1)\n",
      "('t = ', 0)\n",
      "compute_grad start\n",
      "W.shape: (10, 2)\n",
      "h.shape: (2, 1)\n",
      "v.shape: (10, 1)\n",
      "np.dot(W,h).shape: (10, 1)\n",
      "(10, 1)\n",
      "compute_grad end\n",
      "('H is ', array([[ 0.94340929],\n",
      "       [ 0.83034823]]))\n",
      "compute_grad start\n",
      "W.shape: (10, 2)\n",
      "h.shape: (2, 1)\n",
      "v.shape: (10, 1)\n",
      "np.dot(W,h).shape: (10, 1)\n",
      "(10, 1)\n",
      "compute_grad end\n",
      "(10, 2)\n",
      "(2, 1)\n",
      "whv.shape: (10, 1)\n",
      "np.dot(W,h): (10, 1)\n",
      "grad.shape: (2, 1)\n",
      "(10, 2)\n",
      "(2, 1)\n",
      "whv.shape: (10, 1)\n",
      "np.dot(W,h): (10, 1)\n",
      "(10, 2)\n",
      "(2, 1)\n",
      "whv.shape: (10, 1)\n",
      "np.dot(W,h): (10, 1)\n",
      "('t = ', 0)\n",
      "compute_grad start\n",
      "W.shape: (10, 2)\n",
      "h.shape: (2, 1)\n",
      "v.shape: (10, 1)\n",
      "np.dot(W,h).shape: (10, 1)\n",
      "(10, 1)\n",
      "compute_grad end\n",
      "('H is ', array([[ 0.94233409],\n",
      "       [ 0.82964094]]))\n",
      "compute_grad start\n",
      "W.shape: (10, 2)\n",
      "h.shape: (2, 1)\n",
      "v.shape: (10, 1)\n",
      "np.dot(W,h).shape: (10, 1)\n",
      "(10, 1)\n",
      "compute_grad end\n",
      "(10, 2)\n",
      "(2, 1)\n",
      "whv.shape: (10, 1)\n",
      "np.dot(W,h): (10, 1)\n",
      "grad.shape: (2, 1)\n",
      "(10, 2)\n",
      "(2, 1)\n",
      "whv.shape: (10, 1)\n",
      "np.dot(W,h): (10, 1)\n",
      "(10, 2)\n",
      "(2, 1)\n",
      "whv.shape: (10, 1)\n",
      "np.dot(W,h): (10, 1)\n",
      "('t = ', 0)\n",
      "compute_grad start\n",
      "W.shape: (10, 2)\n",
      "h.shape: (2, 1)\n",
      "v.shape: (10, 1)\n",
      "np.dot(W,h).shape: (10, 1)\n",
      "(10, 1)\n",
      "compute_grad end\n",
      "('H is ', array([[ 0.94125953],\n",
      "       [ 0.82893415]]))\n",
      "compute_grad start\n",
      "W.shape: (10, 2)\n",
      "h.shape: (2, 1)\n",
      "v.shape: (10, 1)\n",
      "np.dot(W,h).shape: (10, 1)\n",
      "(10, 1)\n",
      "compute_grad end\n",
      "(10, 2)\n",
      "(2, 1)\n",
      "whv.shape: (10, 1)\n",
      "np.dot(W,h): (10, 1)\n",
      "grad.shape: (2, 1)\n",
      "(10, 2)\n",
      "(2, 1)\n",
      "whv.shape: (10, 1)\n",
      "np.dot(W,h): (10, 1)\n",
      "(10, 2)\n",
      "(2, 1)\n",
      "whv.shape: (10, 1)\n",
      "np.dot(W,h): (10, 1)\n",
      "('t = ', 0)\n",
      "compute_grad start\n",
      "W.shape: (10, 2)\n",
      "h.shape: (2, 1)\n",
      "v.shape: (10, 1)\n",
      "np.dot(W,h).shape: (10, 1)\n",
      "(10, 1)\n",
      "compute_grad end\n",
      "('H is ', array([[ 0.9401856 ],\n",
      "       [ 0.82822787]]))\n",
      "compute_grad start\n",
      "W.shape: (10, 2)\n",
      "h.shape: (2, 1)\n",
      "v.shape: (10, 1)\n",
      "np.dot(W,h).shape: (10, 1)\n",
      "(10, 1)\n",
      "compute_grad end\n",
      "(10, 2)\n",
      "(2, 1)\n",
      "whv.shape: (10, 1)\n",
      "np.dot(W,h): (10, 1)\n",
      "grad.shape: (2, 1)\n",
      "(10, 2)\n",
      "(2, 1)\n",
      "whv.shape: (10, 1)\n",
      "np.dot(W,h): (10, 1)\n",
      "(10, 2)\n",
      "(2, 1)\n",
      "whv.shape: (10, 1)\n",
      "np.dot(W,h): (10, 1)\n",
      "('t = ', 0)\n",
      "compute_grad start\n",
      "W.shape: (10, 2)\n",
      "h.shape: (2, 1)\n",
      "v.shape: (10, 1)\n",
      "np.dot(W,h).shape: (10, 1)\n",
      "(10, 1)\n",
      "compute_grad end\n",
      "('H is ', array([[ 0.93911231],\n",
      "       [ 0.8275221 ]]))\n",
      "compute_grad start\n",
      "W.shape: (10, 2)\n",
      "h.shape: (2, 1)\n",
      "v.shape: (10, 1)\n",
      "np.dot(W,h).shape: (10, 1)\n",
      "(10, 1)\n",
      "compute_grad end\n",
      "(10, 2)\n",
      "(2, 1)\n",
      "whv.shape: (10, 1)\n",
      "np.dot(W,h): (10, 1)\n",
      "grad.shape: (2, 1)\n",
      "(10, 2)\n",
      "(2, 1)\n",
      "whv.shape: (10, 1)\n",
      "np.dot(W,h): (10, 1)\n",
      "(10, 2)\n",
      "(2, 1)\n",
      "whv.shape: (10, 1)\n",
      "np.dot(W,h): (10, 1)\n",
      "('t = ', 0)\n",
      "compute_grad start\n",
      "W.shape: (10, 2)\n",
      "h.shape: (2, 1)\n",
      "v.shape: (10, 1)\n",
      "np.dot(W,h).shape: (10, 1)\n",
      "(10, 1)\n",
      "compute_grad end\n",
      "('H is ', array([[ 0.93803965],\n",
      "       [ 0.82681684]]))\n",
      "compute_grad start\n",
      "W.shape: (10, 2)\n",
      "h.shape: (2, 1)\n",
      "v.shape: (10, 1)\n",
      "np.dot(W,h).shape: (10, 1)\n",
      "(10, 1)\n",
      "compute_grad end\n",
      "(10, 2)\n",
      "(2, 1)\n",
      "whv.shape: (10, 1)\n",
      "np.dot(W,h): (10, 1)\n",
      "grad.shape: (2, 1)\n",
      "(10, 2)\n",
      "(2, 1)\n",
      "whv.shape: (10, 1)\n",
      "np.dot(W,h): (10, 1)\n",
      "(10, 2)\n",
      "(2, 1)\n",
      "whv.shape: (10, 1)\n",
      "np.dot(W,h): (10, 1)\n",
      "('t = ', 0)\n",
      "compute_grad start\n",
      "W.shape: (10, 2)\n",
      "h.shape: (2, 1)\n",
      "v.shape: (10, 1)\n",
      "np.dot(W,h).shape: (10, 1)\n",
      "(10, 1)\n",
      "compute_grad end\n",
      "('H is ', array([[ 0.93696763],\n",
      "       [ 0.82611209]]))\n",
      "compute_grad start\n",
      "W.shape: (10, 2)\n",
      "h.shape: (2, 1)\n",
      "v.shape: (10, 1)\n",
      "np.dot(W,h).shape: (10, 1)\n",
      "(10, 1)\n",
      "compute_grad end\n",
      "(10, 2)\n",
      "(2, 1)\n",
      "whv.shape: (10, 1)\n",
      "np.dot(W,h): (10, 1)\n",
      "grad.shape: (2, 1)\n",
      "(10, 2)\n",
      "(2, 1)\n",
      "whv.shape: (10, 1)\n",
      "np.dot(W,h): (10, 1)\n",
      "(10, 2)\n",
      "(2, 1)\n",
      "whv.shape: (10, 1)\n",
      "np.dot(W,h): (10, 1)\n",
      "('t = ', 0)\n",
      "compute_grad start\n",
      "W.shape: (10, 2)\n",
      "h.shape: (2, 1)\n",
      "v.shape: (10, 1)\n",
      "np.dot(W,h).shape: (10, 1)\n",
      "(10, 1)\n",
      "compute_grad end\n",
      "('H is ', array([[ 0.93589625],\n",
      "       [ 0.82540785]]))\n",
      "compute_grad start\n",
      "W.shape: (10, 2)\n",
      "h.shape: (2, 1)\n",
      "v.shape: (10, 1)\n",
      "np.dot(W,h).shape: (10, 1)\n",
      "(10, 1)\n",
      "compute_grad end\n",
      "(10, 2)\n",
      "(2, 1)\n",
      "whv.shape: (10, 1)\n",
      "np.dot(W,h): (10, 1)\n",
      "grad.shape: (2, 1)\n",
      "(10, 2)\n",
      "(2, 1)\n",
      "whv.shape: (10, 1)\n",
      "np.dot(W,h): (10, 1)\n",
      "(10, 2)\n",
      "(2, 1)\n",
      "whv.shape: (10, 1)\n",
      "np.dot(W,h): (10, 1)\n",
      "('t = ', 0)\n",
      "compute_grad start\n",
      "W.shape: (10, 2)\n",
      "h.shape: (2, 1)\n",
      "v.shape: (10, 1)\n",
      "np.dot(W,h).shape: (10, 1)\n",
      "(10, 1)\n",
      "compute_grad end\n",
      "('H is ', array([[ 0.9348255 ],\n",
      "       [ 0.82470412]]))\n"
     ]
    }
   ],
   "source": [
    "def gradient_backtracking(max_iter, W,  v, compute_grad, compute_obj, eps):\n",
    "    \n",
    "    v = v.reshape(v.shape[0],1)\n",
    "  \n",
    "    alpha = 0.1 # chosen between 0.01 and 0.3\n",
    "    beta = 0.8 #between 0.1 and 0.8\n",
    "    \n",
    "    n = 1e-4 #initial step size\n",
    "    \n",
    "    h = np.random.rand(2, 1)\n",
    "    obj = [None]*max_iter\n",
    "    \n",
    "    for k in range(max_iter):\n",
    "        \n",
    "        grad = compute_grad(v,W,h,eps)\n",
    "        obj[k] = compute_obj(v,W,h,eps)\n",
    "        \n",
    "        print('grad.shape: ' + str(grad.shape))\n",
    "        t = 0\n",
    "        while compute_obj(v,W,(h - n*grad),eps) > (compute_obj(v,W,h,eps) - alpha*n* np.dot(grad.T, grad)):\n",
    "            t += 1\n",
    "            n = beta * n\n",
    "        \n",
    "        print (\"t = \", t)\n",
    "        \n",
    "        h =h- n*compute_grad(v,W,h,eps)\n",
    "      \n",
    "        print (\"H is \" , h)\n",
    "    return h, obj\n",
    "\n",
    "h, obj = gradient_backtracking(10, np.random.rand(10,2),   np.random.rand(10,1), compute_grad, compute_obj, 1e-12)"
   ]
  },
  {
   "cell_type": "code",
   "execution_count": 85,
   "metadata": {
    "collapsed": false
   },
   "outputs": [
    {
     "name": "stdout",
     "output_type": "stream",
     "text": [
      "[15.145796214740518, 15.123442650998966, 15.101107604850467, 15.078791096811223, 15.056493147401735, 15.034213777146725, 15.011953006574929, 14.98971085621902, 14.967487346615417, 14.945282498304193]\n"
     ]
    },
    {
     "data": {
      "image/png": "[encoded data removed]",
      "text/plain": [
       "<matplotlib.figure.Figure at 0x111a95210>"
      ]
     },
     "metadata": {},
     "output_type": "display_data"
    }
   ],
   "source": [
    "import matplotlib.pyplot as plt\n",
    "\n",
    "index = [i for i in range(10)]\n",
    "plt.title(\"On training data\")\n",
    "plt.plot([i for i in range(len(obj))], obj)\n",
    "\n",
    "print(obj)"
   ]
  },
  {
   "cell_type": "code",
   "execution_count": 61,
   "metadata": {
    "collapsed": false
   },
   "outputs": [
    {
     "name": "stdout",
     "output_type": "stream",
     "text": [
      "(129, 2)\n"
     ]
    }
   ],
   "source": [
    "import random\n",
    "def online_nmf(spectrum, W, H,A, B, rho, beta, n, eps):\n",
    "    A_list = []\n",
    "    B_list = []\n",
    "   \n",
    "    a = np.zeros(W.shape)\n",
    "    b = np.zeros(W.shape)\n",
    "\n",
    "    t = 1\n",
    "    W_old = W\n",
    "    k = W.shape[1]\n",
    "    while np.linalg.norm(W - W_old, ord = \"fro\") < n:\n",
    "        t = t+1 \n",
    "        \n",
    "        ind = random.randint(0, len(spectrum.T))\n",
    "        v = spectrum.T[ind]\n",
    "        h = get_h(eps,W,H, v)\n",
    "        h = h.reshape(h.shape[0],1)\n",
    "        v = v.reshape(v.shape[0],1)\n",
    "        den = eps + np.dot(W, h)\n",
    "        \n",
    "        a += np.dot(np.dot(((eps+v)/(den**2)), h.T), np.dot(W.T,W))\n",
    "        b += np.dot(1/den, h.T)\n",
    "        \n",
    "        if t % beta == 0:\n",
    "            A = A + rho*a\n",
    "            a = 0\n",
    "            B = B + rho*b\n",
    "            b = 0\n",
    "            W_old = W\n",
    "            W = np.sqrt(A/B)\n",
    "            \n",
    "            W = np.array([x/sum(x) for x in zip(*W)]).T\n",
    "            A = np.array([x/sum(x) for x in zip(*A)]).T\n",
    "            B = np.array([x*sum(x) for x in zip(*B)]).T\n",
    "            \n",
    "        if t > 30:\n",
    "            print(W.shape)\n",
    "            break\n",
    "\n",
    "eps = 1e-12\n",
    "v = spectrum.T[0]\n",
    "K = 2\n",
    "W = np.random.rand(spectrum.shape[0],K)\n",
    "H = np.zeros((K, spectrum.shape[1]))\n",
    "\n",
    "A = np.zeros(W.shape)\n",
    "B = np.zeros(W.shape)\n",
    "\n",
    "\n",
    "online_nmf(spectrum, W, H, A, B, 0.5, 100, 1e-3, eps)"
   ]
  },
  {
   "cell_type": "code",
   "execution_count": null,
   "metadata": {
    "collapsed": true
   },
   "outputs": [],
   "source": [
    "eps = 1e-12\n",
    "random.seed(12222015)"
   ]
  },
  {
   "cell_type": "code",
   "execution_count": 92,
   "metadata": {
    "collapsed": false
   },
   "outputs": [],
   "source": [
    "s = [sum(x) for x in zip(*W)]\n",
    "W = [sum(x) for x in zip(*W)]"
   ]
  },
  {
   "cell_type": "code",
   "execution_count": 93,
   "metadata": {
    "collapsed": false
   },
   "outputs": [
    {
     "data": {
      "text/plain": [
       "(1, 129)"
      ]
     },
     "execution_count": 93,
     "metadata": {},
     "output_type": "execute_result"
    }
   ],
   "source": [
    "p.shape"
   ]
  },
  {
   "cell_type": "code",
   "execution_count": 245,
   "metadata": {
    "collapsed": false
   },
   "outputs": [],
   "source": [
    "W = np.array([[1,1], [1,2], [2,2]])\n",
    "X = [1,2]\n",
    "\n"
   ]
  },
  {
   "cell_type": "code",
   "execution_count": 246,
   "metadata": {
    "collapsed": false
   },
   "outputs": [
    {
     "data": {
      "text/plain": [
       "array([[1, 1],\n",
       "       [1, 2],\n",
       "       [2, 2]])"
      ]
     },
     "execution_count": 246,
     "metadata": {},
     "output_type": "execute_result"
    }
   ],
   "source": [
    "W"
   ]
  },
  {
   "cell_type": "code",
   "execution_count": 237,
   "metadata": {
    "collapsed": false
   },
   "outputs": [
    {
     "name": "stdout",
     "output_type": "stream",
     "text": [
      "[ 0.25  0.25  0.5 ]\n",
      "[0 0 0]\n",
      "[ 0.2  0.4  0.4]\n",
      "[0 0 0]\n"
     ]
    }
   ],
   "source": [
    "X = W.T\n",
    "for i in range(2):\n",
    "    \n",
    "    col_sum = X[i].sum()\n",
    "    print(X[i]/col_sum)\n",
    "    X[i] = (X[i]/col_sum)\n",
    "    print(X[i])\n"
   ]
  },
  {
   "cell_type": "code",
   "execution_count": 251,
   "metadata": {
    "collapsed": false
   },
   "outputs": [],
   "source": [
    "z = np.array([x/sum(x) for x in zip(*W)])"
   ]
  },
  {
   "cell_type": "code",
   "execution_count": 252,
   "metadata": {
    "collapsed": false
   },
   "outputs": [
    {
     "data": {
      "text/plain": [
       "array([[ 0.25,  0.2 ],\n",
       "       [ 0.25,  0.4 ],\n",
       "       [ 0.5 ,  0.4 ]])"
      ]
     },
     "execution_count": 252,
     "metadata": {},
     "output_type": "execute_result"
    }
   ],
   "source": [
    "z.T"
   ]
  },
  {
   "cell_type": "code",
   "execution_count": null,
   "metadata": {
    "collapsed": true
   },
   "outputs": [],
   "source": [
    "import numpy as np\n",
    "\n",
    "# divergence\n",
    "def div(v,W,h):\n",
    "    whv = np.dot(W,h) * 1/v\n",
    "    div = whv - np.log10(whv) - 1\n",
    "    div = np.dot( div, np.ones )\n",
    "    return div\n",
    "\n",
    "# divergence gradient\n",
    "def div_grad(v,W,h):\n",
    "    grad = np.dot( 1/v - 1/(np.dot(W,h)) , W)\n",
    "    return grad\n",
    "\n",
    "# epsilon divergence\n",
    "def eps_div(v,W,h,eps):\n",
    "    whv = (np.dot(W,h) + eps) * 1/(v + eps)\n",
    "    div = whv - np.log10(whv) - 1\n",
    "    div = np.dot( div, np.ones )\n",
    "    return div\n",
    "\n",
    "# epsilon divergence gradient\n",
    "def eps_div_grad(v,W,h,eps):\n",
    "    grad = np.dot( 1/(v + eps) - 1/(np.dot(W,h) + eps), W)\n",
    "    return grad"
   ]
  }
 ],
 "metadata": {
  "kernelspec": {
   "display_name": "Python 2",
   "language": "python",
   "name": "python2"
  },
  "language_info": {
   "codemirror_mode": {
    "name": "ipython",
    "version": 2
   },
   "file_extension": ".py",
   "mimetype": "text/x-python",
   "name": "python",
   "nbconvert_exporter": "python",
   "pygments_lexer": "ipython2",
   "version": "2.7.10"
  }
 },
 "nbformat": 4,
 "nbformat_minor": 0
}
