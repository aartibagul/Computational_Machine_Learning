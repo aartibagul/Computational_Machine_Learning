{
 "cells": [
  {
   "cell_type": "code",
   "execution_count": 1,
   "metadata": {
    "collapsed": false
   },
   "outputs": [],
   "source": [
    "import numpy as np\n",
    "from __future__ import division"
   ]
  },
  {
   "cell_type": "code",
   "execution_count": 2,
   "metadata": {
    "collapsed": false
   },
   "outputs": [],
   "source": [
    "%matplotlib inline\n",
    "import wave, struct, numpy as np, matplotlib.mlab as mlab, pylab as pl\n",
    "\n",
    "filename = \"CML_Recording_Both.wav\"\n",
    "w = wave.open(filename,\"rb\")\n",
    "\n",
    "#returns a named tuple (nchannels, sampwidth, framerate, \n",
    "# nframes, comptype, compname)\n",
    "waveParams = w.getparams()\n",
    "\n",
    "s = w.readframes(waveParams[3])\n",
    "w.close()\n",
    "waveArray = np.fromstring(s, np.int16)\n",
    "\n",
    "spectrum, freq, bins = mlab.specgram(waveArray, NFFT=256,Fs=waveParams[2],sides='onesided')\n"
   ]
  },
  {
   "cell_type": "code",
   "execution_count": null,
   "metadata": {
    "collapsed": true
   },
   "outputs": [],
   "source": [
    "# calculates and returns spectrogram of \n",
    "def get_wav(filename)\n",
    "    filename = \"CML_Recording_Both.wav\"\n",
    "    w = wave.open(filename,\"rb\")\n",
    "    return w\n",
    "\n",
    "# spectrogram is the absolute value of the stft\n",
    "def get_sepctrogram(stft):\n",
    "    return abs(stft)\n",
    "\n",
    "# takes in wave file as input\n",
    "# win_size is the length of the window in samples\n",
    "# overlap is the amount of overlap between windows in samples\n",
    "def my_stft(w, win_size, overlap):\n",
    "    # number of samples in the wave file\n",
    "    n = len(w)\n",
    "    win_count= 0\n",
    "    \n",
    "\n",
    "def my_istft(stft):\n",
    "    "
   ]
  },
  {
   "cell_type": "code",
   "execution_count": 3,
   "metadata": {
    "collapsed": false
   },
   "outputs": [
    {
     "data": {
      "text/plain": [
       "(129, 11263)"
      ]
     },
     "execution_count": 3,
     "metadata": {},
     "output_type": "execute_result"
    }
   ],
   "source": [
    "spectrum.shape"
   ]
  },
  {
   "cell_type": "code",
   "execution_count": 84,
   "metadata": {
    "collapsed": false
   },
   "outputs": [],
   "source": [
    "import numpy as np\n",
    "\n",
    "# divergence\n",
    "def div(v,W,h):\n",
    "    whv = np.dot(W,h) * 1/v\n",
    "    div = whv - np.log(whv) - 1\n",
    "    div = np.dot( div, np.ones(div.shape) )\n",
    "    return div\n",
    "\n",
    "# divergence gradient\n",
    "def div_grad(v,W,h):\n",
    "    grad = np.dot( 1/v - 1/(np.dot(W,h)) , W)\n",
    "    return grad\n",
    "\n",
    "# epsilon divergence\n",
    "def compute_obj(v,W,h,eps):\n",
    "    \n",
    "    whv = (np.dot(W,h) + eps)/(v + eps)\n",
    "    if any(whv < 0):\n",
    "        print(W)\n",
    "        print(h)\n",
    "        print(v)\n",
    "        print('whv: ' + str(whv))\n",
    "    #print('whv.shape: ' + str(whv.shape))\n",
    "    #print('np.dot(W,h): ' + str(np.dot(W,h)))\n",
    "    div = whv - np.log(whv) - 1\n",
    "    #print(div)\n",
    "    return np.sum( div )\n",
    "\n",
    "# epsilon divergence gradient\n",
    "def compute_grad(v,W,h,eps):\n",
    "    #print('compute_grad start')\n",
    "    #print('W.shape: ' + str(W.shape))\n",
    "    #print('h.shape: ' + str(h.shape))\n",
    "    #print('v.shape: ' + str(v.shape))\n",
    "    #print('np.dot(W,h).shape: ' + str( (np.dot(W,h) + eps).shape ) )\n",
    "    #print((1/(v + eps) - 1/(np.dot(W,h) + eps)).shape)\n",
    "    grad = np.dot(W.T, (1/(v + eps) - 1/(np.dot(W,h) + eps)))\n",
    "    #print('compute_grad end')\n",
    "    return grad\n",
    "\n",
    "def itakura_saito(y,x):\n",
    "    y = np.array(y)\n",
    "    x = np.array(x)\n",
    "    return np.sum(y/x - np.log(y/x) -1)\n",
    "    \n",
    "# important! input here has to be the matrix H, not the vector h_t\n",
    "# this is because we need h_t but also h_(t-1) and h_(t+1)\n",
    "# ind_t is the index of h_t in H\n",
    "# lambda is the smoothness constant\n",
    "def compute_smooth_obj(v,W,H,ind_t,lamb,eps):\n",
    "    \n",
    "    # get the column h_t\n",
    "    h = H[:,ind_t]\n",
    "    h = h.reshape(h.shape[0],1)\n",
    "    \n",
    "    # compute regular objective\n",
    "    # maybe doing this direct instead of the function call is faster:\n",
    "    # whv = (np.dot(W,h) + eps)/(v + eps)\n",
    "    # div = whv - np.log(whv) - 1 \n",
    "    div = compute_obj(v,W,h,eps)\n",
    "    \n",
    "    # compute smoothness terms\n",
    "    s1 = H[:,ind_t]/H[:,ind_t-1]\n",
    "    s2 = H[:,ind_t]/H[:,ind_t+1]\n",
    "    sm = s1 - np.log(s1) - 1\n",
    "    sm += s2 - np.log(s2) - 1\n",
    "    # returning properly scaled smooth objective\n",
    "    return div + lamb * np.sum( sm )\n",
    "    \n",
    "# input parameters as above\n",
    "def compute_smooth_grad(v,W,H,ind_t,lamb,eps):\n",
    "    \n",
    "    # get the column h_t\n",
    "    h = H[:,ind_t]\n",
    "    h = h.reshape(h.shape[0],1)\n",
    "    \n",
    "    # calculates gradient of regular divergence\n",
    "    div_grad = compute_grad(v,W,h,eps)\n",
    "\n",
    "    # calculating gradient of smoothness term\n",
    "    sm_grad = 1/H[:,ind_t-1] + 1/H[:,ind_t+1] - 2/H[:,ind_t]\n",
    "    sm_grad = sm_grad.reshape(sm_grad.shape[0],1)\n",
    "    \n",
    "    # returning properly scaled gradient of smooth objective \n",
    "    return div_grad + lamb * sm_grad\n",
    "    "
   ]
  },
  {
   "cell_type": "code",
   "execution_count": 85,
   "metadata": {
    "collapsed": false
   },
   "outputs": [
    {
     "name": "stdout",
     "output_type": "stream",
     "text": [
      "[[-0.91200162]\n",
      " [ 0.42126031]]\n",
      "[[-0.91199808]\n",
      " [ 0.42126121]]\n"
     ]
    }
   ],
   "source": [
    "def grad_checker(v, W, h):\n",
    "    eps = 1e-3\n",
    "    (f,k) = W.shape\n",
    "    t_grad = np.zeros(h.shape)\n",
    "    for i in range(k):\n",
    "        ei = np.zeros(h.shape)\n",
    "        ei[i] = eps\n",
    "        t_grad[i] = (compute_obj(v,W,h+ei, 1e-12) - compute_obj(v,W,h-ei,1e-12)) / (2*eps)\n",
    "    print(t_grad)\n",
    "    print(compute_grad(v,W,h,1e-12))\n",
    "grad_checker(np.random.rand(2,1), np.random.rand(2,2),np.random.rand(2, 1))"
   ]
  },
  {
   "cell_type": "code",
   "execution_count": 86,
   "metadata": {
    "collapsed": false
   },
   "outputs": [
    {
     "name": "stdout",
     "output_type": "stream",
     "text": [
      "[ 7.53544566  9.5102638 ]\n",
      "[[ 7.53544693]\n",
      " [ 9.51026604]]\n"
     ]
    }
   ],
   "source": [
    "def grad_checker(v,W,H,ind_t,lamb,eps):\n",
    "    eps_dif = 1e-3\n",
    "    (f,k) = W.shape\n",
    "    t_grad = np.zeros(H[:,ind_t].shape)\n",
    "    for i in range(k):\n",
    "        ei = np.zeros(H.shape)\n",
    "        ei[i,ind_t] = eps_dif\n",
    "        t_grad[i] = (compute_smooth_obj(v,W,H+ei,ind_t,lamb,eps) - compute_smooth_obj(v,W,H-ei,ind_t,lamb,eps)) / (2*eps_dif)\n",
    "    print(t_grad)\n",
    "    print(compute_smooth_grad(v,W,H,ind_t,lamb,eps))\n",
    "grad_checker(np.random.rand(2,1), np.random.rand(2,2),np.random.rand(2, 3),1,1,1e-12)"
   ]
  },
  {
   "cell_type": "code",
   "execution_count": 98,
   "metadata": {
    "collapsed": false
   },
   "outputs": [],
   "source": [
    "def gradient_backtracking(v, W, h, max_iter, compute_grad, compute_obj, eps):\n",
    "    \n",
    "    v = v.reshape(v.shape[0],1)\n",
    "  \n",
    "    beta = 0.5 #backstep factor between 0.1 and 0.8\n",
    "    opt_prec = 1-1e-4 # optimization precision\n",
    "    n = 1e-1 #initial step size\n",
    "    \n",
    "    h = np.random.rand(2, 1)\n",
    "    \n",
    "    obj = [None]*max_iter\n",
    "    \n",
    "    max_backstep = 100 # maximum number of backsteps\n",
    "    t = 0 # backstepping counter\n",
    "    k = 0 # gradient step counter \n",
    "    \n",
    "    while( k < max_iter and t != max_backstep ):\n",
    "        \n",
    "        grad = compute_grad(v,W,h,eps)\n",
    "        obj[k] = compute_obj(v,W,h,eps)\n",
    "        \n",
    "        t = 0 # reset backstepping counter\n",
    "        n = 1/beta*n # try to increase stepsize slightly again\n",
    "        \n",
    "        # make sure h-n*grad is positive\n",
    "        while(any(h - n * grad < 0)  and t < max_backstep ):\n",
    "            t += 1\n",
    "            n = beta * n\n",
    "    \n",
    "        new_obj = compute_obj(v,W,(h - n*grad),eps)\n",
    "        while( new_obj > opt_prec * compute_obj(v,W,h,eps) and t < max_backstep):\n",
    "            t += 1\n",
    "            n = beta * n\n",
    "            new_obj = abs(compute_obj(v,W,(h - n*grad),eps))\n",
    "                      \n",
    "        h = h - n * grad # update h according to gradient step\n",
    "        k += 1 # update gradient step counter\n",
    "       \n",
    "   \n",
    "    return h, obj[0:k]\n",
    "\n",
    "h, obj = gradient_backtracking(np.random.rand(10,1), np.random.rand(10,2),  np.random.rand(2, 1), 100, compute_grad, compute_obj, 1e-12)"
   ]
  },
  {
   "cell_type": "code",
   "execution_count": 99,
   "metadata": {
    "collapsed": false,
    "scrolled": true
   },
   "outputs": [
    {
     "name": "stdout",
     "output_type": "stream",
     "text": [
      "[25.294090530377957, 9.523756099388935, 7.9600867384393883, 7.6123309624643438, 7.5394195057403977, 7.5046593723963975, 7.4961605757929686]\n"
     ]
    },
    {
     "data": {
      "image/png": "[encoded data removed]",
      "text/plain": [
       "<matplotlib.figure.Figure at 0x10dcfacf8>"
      ]
     },
     "metadata": {},
     "output_type": "display_data"
    }
   ],
   "source": [
    "import matplotlib.pyplot as plt\n",
    "\n",
    "index = [i for i in range(10)]\n",
    "plt.title(\"On training data\")\n",
    "plt.plot([i for i in range(len(obj))], obj)\n",
    "\n",
    "print(obj)"
   ]
  },
  {
   "cell_type": "code",
   "execution_count": 123,
   "metadata": {
    "collapsed": false
   },
   "outputs": [
    {
     "name": "stdout",
     "output_type": "stream",
     "text": [
      "10397\n",
      "1159\n",
      "7673\n",
      "1195\n",
      "8925\n",
      "8117\n",
      "8352\n",
      "9888\n",
      "2726\n",
      "1144\n",
      "3475\n",
      "3826\n",
      "3032\n",
      "1861\n",
      "2194\n",
      "5991\n",
      "10329\n",
      "9339\n",
      "1516\n",
      "9884\n",
      "390\n",
      "7362\n",
      "9378\n",
      "7485\n",
      "6431\n",
      "9810\n",
      "8308\n",
      "8573\n",
      "5932\n",
      "9897\n",
      "3574\n",
      "3142\n",
      "7137\n",
      "10108\n",
      "6775\n",
      "3772\n",
      "6585\n",
      "5474\n",
      "6239\n",
      "5812\n",
      "1689\n",
      "5567\n",
      "2060\n",
      "7920\n",
      "5159\n",
      "9849\n",
      "6252\n",
      "3475\n",
      "8488\n",
      "3944\n",
      "10605\n",
      "7137\n",
      "5211\n",
      "3008\n",
      "9898\n",
      "3394\n",
      "6706\n",
      "1929\n",
      "1727\n",
      "5845\n",
      "1167\n",
      "5818\n",
      "5789\n",
      "5076\n",
      "8082\n",
      "7449\n",
      "9597\n",
      "7358\n",
      "9852\n",
      "8601\n",
      "6206\n",
      "15\n",
      "1331\n",
      "3413\n",
      "3760\n",
      "2098\n",
      "1738\n",
      "3532\n",
      "7715\n",
      "2317\n",
      "10439\n",
      "2162\n",
      "7252\n",
      "7377\n",
      "5980\n",
      "695\n",
      "9375\n",
      "11003\n",
      "6948\n",
      "7636\n",
      "4654\n",
      "3109\n",
      "1814\n",
      "10295\n",
      "3446\n",
      "(129, 2)\n"
     ]
    }
   ],
   "source": [
    "import random\n",
    "def online_nmf(spectrum, W, H,A, B, rho, beta, n, eps):\n",
    "   \n",
    "    a = np.zeros(W.shape)\n",
    "    b = np.zeros(W.shape)\n",
    "\n",
    "    t = 1\n",
    "    W_old = W\n",
    "    k = W.shape[1]\n",
    "    h = np.random.rand(W.shape[1], 1)\n",
    "    h_old = h\n",
    "    \n",
    "    while np.linalg.norm(W - W_old, ord = \"fro\") < n:\n",
    "        \n",
    "        t = t+1 \n",
    "        \n",
    "        ind = random.randint(0, len(spectrum.T)-1)\n",
    "        print(ind)\n",
    "        v = spectrum.T[ind]\n",
    "        h_old = h\n",
    "        h, obj = gradient_backtracking(v, W, h_old, 100, compute_grad, compute_obj, 1e-12)\n",
    "   \n",
    "        h = h.reshape(h.shape[0],1)\n",
    "        v = v.reshape(v.shape[0],1)\n",
    "        den = eps + np.dot(W, h)\n",
    "        \n",
    "        a += np.dot(np.dot(((eps+v)/(den**2)), h.T), np.dot(W.T,W))\n",
    "        b += np.dot(1/den, h.T)\n",
    "        \n",
    "        if t % beta == 0:\n",
    "            A = A + rho*a\n",
    "            a = 0\n",
    "            B = B + rho*b\n",
    "            b = 0\n",
    "            W_old = W\n",
    "            W = np.sqrt(A/B)\n",
    "            \n",
    "            W = np.array([x/sum(x) for x in zip(*W)]).T\n",
    "            A = np.array([x/sum(x) for x in zip(*A)]).T\n",
    "            B = np.array([x*sum(x) for x in zip(*B)]).T\n",
    "            \n",
    "        if t > 95:\n",
    "            print(W.shape)\n",
    "            break\n",
    "\n",
    "eps = 1e-12\n",
    "v = spectrum.T[0]\n",
    "K = 2\n",
    "W = np.random.rand(spectrum.shape[0],K)\n",
    "H = np.zeros((K, spectrum.shape[1]))\n",
    "\n",
    "A = np.zeros(W.shape)\n",
    "B = np.zeros(W.shape)\n",
    "\n",
    "online_nmf(spectrum, W, H, A, B, 0.5, 100, 1e-3, eps)"
   ]
  },
  {
   "cell_type": "code",
   "execution_count": null,
   "metadata": {
    "collapsed": true
   },
   "outputs": [],
   "source": [
    "eps = 1e-12\n",
    "random.seed(12222015)"
   ]
  },
  {
   "cell_type": "code",
   "execution_count": 92,
   "metadata": {
    "collapsed": false
   },
   "outputs": [],
   "source": [
    "s = [sum(x) for x in zip(*W)]\n",
    "W = [sum(x) for x in zip(*W)]"
   ]
  },
  {
   "cell_type": "code",
   "execution_count": 93,
   "metadata": {
    "collapsed": false
   },
   "outputs": [
    {
     "data": {
      "text/plain": [
       "(1, 129)"
      ]
     },
     "execution_count": 93,
     "metadata": {},
     "output_type": "execute_result"
    }
   ],
   "source": [
    "p.shape"
   ]
  },
  {
   "cell_type": "code",
   "execution_count": 245,
   "metadata": {
    "collapsed": false
   },
   "outputs": [],
   "source": [
    "W = np.array([[1,1], [1,2], [2,2]])\n",
    "X = [1,2]\n",
    "\n"
   ]
  },
  {
   "cell_type": "code",
   "execution_count": 246,
   "metadata": {
    "collapsed": false
   },
   "outputs": [
    {
     "data": {
      "text/plain": [
       "array([[1, 1],\n",
       "       [1, 2],\n",
       "       [2, 2]])"
      ]
     },
     "execution_count": 246,
     "metadata": {},
     "output_type": "execute_result"
    }
   ],
   "source": [
    "W"
   ]
  },
  {
   "cell_type": "code",
   "execution_count": 237,
   "metadata": {
    "collapsed": false
   },
   "outputs": [
    {
     "name": "stdout",
     "output_type": "stream",
     "text": [
      "[ 0.25  0.25  0.5 ]\n",
      "[0 0 0]\n",
      "[ 0.2  0.4  0.4]\n",
      "[0 0 0]\n"
     ]
    }
   ],
   "source": [
    "X = W.T\n",
    "for i in range(2):\n",
    "    \n",
    "    col_sum = X[i].sum()\n",
    "    print(X[i]/col_sum)\n",
    "    X[i] = (X[i]/col_sum)\n",
    "    print(X[i])\n"
   ]
  },
  {
   "cell_type": "code",
   "execution_count": 251,
   "metadata": {
    "collapsed": false
   },
   "outputs": [],
   "source": [
    "z = np.array([x/sum(x) for x in zip(*W)])"
   ]
  },
  {
   "cell_type": "code",
   "execution_count": 252,
   "metadata": {
    "collapsed": false
   },
   "outputs": [
    {
     "data": {
      "text/plain": [
       "array([[ 0.25,  0.2 ],\n",
       "       [ 0.25,  0.4 ],\n",
       "       [ 0.5 ,  0.4 ]])"
      ]
     },
     "execution_count": 252,
     "metadata": {},
     "output_type": "execute_result"
    }
   ],
   "source": [
    "z.T"
   ]
  },
  {
   "cell_type": "code",
   "execution_count": null,
   "metadata": {
    "collapsed": true
   },
   "outputs": [],
   "source": [
    "import numpy as np\n",
    "\n",
    "# divergence\n",
    "def div(v,W,h):\n",
    "    whv = np.dot(W,h) * 1/v\n",
    "    div = whv - np.log10(whv) - 1\n",
    "    div = np.dot( div, np.ones )\n",
    "    return div\n",
    "\n",
    "# divergence gradient\n",
    "def div_grad(v,W,h):\n",
    "    grad = np.dot( 1/v - 1/(np.dot(W,h)) , W)\n",
    "    return grad\n",
    "\n",
    "# epsilon divergence\n",
    "def eps_div(v,W,h,eps):\n",
    "    whv = (np.dot(W,h) + eps) * 1/(v + eps)\n",
    "    div = whv - np.log10(whv) - 1\n",
    "    div = np.dot( div, np.ones )\n",
    "    return div\n",
    "\n",
    "# epsilon divergence gradient\n",
    "def eps_div_grad(v,W,h,eps):\n",
    "    grad = np.dot( 1/(v + eps) - 1/(np.dot(W,h) + eps), W)\n",
    "    return grad"
   ]
  }
 ],
 "metadata": {
  "kernelspec": {
   "display_name": "Python 3",
   "language": "python",
   "name": "python3"
  },
  "language_info": {
   "codemirror_mode": {
    "name": "ipython",
    "version": 3
   },
   "file_extension": ".py",
   "mimetype": "text/x-python",
   "name": "python",
   "nbconvert_exporter": "python",
   "pygments_lexer": "ipython3",
   "version": "3.4.3"
  }
 },
 "nbformat": 4,
 "nbformat_minor": 0
}
