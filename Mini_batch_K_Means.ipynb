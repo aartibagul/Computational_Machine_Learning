{
 "cells": [
  {
   "cell_type": "markdown",
   "metadata": {},
   "source": [
    "https://algorithmicthoughts.wordpress.com/2013/07/26/machine-learning-mini-batch-k-means/"
   ]
  },
  {
   "cell_type": "code",
   "execution_count": 51,
   "metadata": {
    "collapsed": true
   },
   "outputs": [],
   "source": [
    "from __future__ import division\n"
   ]
  },
  {
   "cell_type": "code",
   "execution_count": 52,
   "metadata": {
    "collapsed": true
   },
   "outputs": [],
   "source": [
    "\n",
    "def get_closest(x, centers):\n",
    "    distances = []\n",
    "    \n",
    "    #get the distance from the point(x) to every centroid\n",
    "    #and get the index of centroid that yields \n",
    "    #the minimum distance \n",
    "    \n",
    "    for mu in centers:\n",
    "        distances.append(np.linalg.norm(x-mu))\n",
    "    index = np.argmin(distances)\n",
    "    \n",
    "    return index, min(distances)\n",
    "    "
   ]
  },
  {
   "cell_type": "code",
   "execution_count": 83,
   "metadata": {
    "collapsed": true
   },
   "outputs": [],
   "source": [
    "'''\n",
    "This function returns the value of the k-means objective function\n",
    "\n",
    "Input:\n",
    "X- data points to be clustered\n",
    "k- number of clusters\n",
    "C- Information about which cluster each data-point corresponds to\n",
    "centers- list of k centroids \n",
    "\n",
    "Output:\n",
    "sum_distance - value obtained by evaluating the k means objective function\n",
    "\n",
    "'''\n",
    "\n",
    "def k_means_objective(X, k, C, centers):\n",
    "    \n",
    "    sum_distance = 0\n",
    "    for j in range(k):\n",
    "        for x in X[C==j]:\n",
    "            sum_distance += (np.linalg.norm(x-centers[j]))**2\n",
    "                \n",
    "    return sum_distance"
   ]
  },
  {
   "cell_type": "code",
   "execution_count": 53,
   "metadata": {
    "collapsed": true
   },
   "outputs": [],
   "source": [
    "def mykmeans_plus_plus(p, k, max_iter):\n",
    "    centers = []\n",
    "    centers_list = []\n",
    "    distortion = []\n",
    "    centers.append(random.sample(p,1))\n",
    "    \n",
    "    for r in range(k-1):\n",
    "        x = random.random()\n",
    "        num_dx = (get_closest(p[0],centers)[1])**2\n",
    "        den_dx = 0\n",
    "        for x_i in p:\n",
    "            den_dx += (get_closest(x_i,centers)[1])**2\n",
    "        index = 0\n",
    "        while num_dx/den_dx < x:\n",
    "            \n",
    "            index += 1\n",
    "            num_dx += (get_closest(p[index],centers)[1])**2\n",
    "\n",
    "        centers.append(p[index])\n",
    "    \n",
    "    centers_list.append(centers)\n",
    "    for t in range(max_iter):    \n",
    "        C=[0]*len(p)\n",
    "        \n",
    "        \n",
    "        #assign clusters\n",
    "        for i in range(len(p)): \n",
    "            index = get_closest(p[i], centers)[0]\n",
    "            C[i] = index\n",
    "        \n",
    "        C = np.array(C)\n",
    "        \n",
    "        distortion.append(k_means_objective(p, k, C, centers))\n",
    "        \n",
    "        centers = [p[C==j].mean(axis = 0) for j in range(k)]\n",
    "        centers_list.append(centers)\n",
    "        \n",
    "        C = np.array(C)\n",
    "        \n",
    "    return C, centers, distortion, centers_list  "
   ]
  },
  {
   "cell_type": "code",
   "execution_count": 84,
   "metadata": {
    "collapsed": false
   },
   "outputs": [
    {
     "data": {
      "text/plain": [
       "<matplotlib.text.Text at 0x10910bc50>"
      ]
     },
     "execution_count": 84,
     "metadata": {},
     "output_type": "execute_result"
    },
    {
     "data": {
      "image/png": "[encoded data removed]",
      "text/plain": [
       "<matplotlib.figure.Figure at 0x108c24550>"
      ]
     },
     "metadata": {},
     "output_type": "display_data"
    },
    {
     "data": {
      "image/png": "[encoded data removed]",
      "text/plain": [
       "<matplotlib.figure.Figure at 0x108799310>"
      ]
     },
     "metadata": {},
     "output_type": "display_data"
    }
   ],
   "source": [
    "k1 = 3\n",
    "C2, centers2, distortion, centers_list2 = mykmeans_plus_plus(X_scaled, k1,50)\n",
    "centers2_pca = pca.transform(centers2) \n",
    "\n",
    "   \n",
    "centers_list2 = np.array(centers_list2)\n",
    "plot_kmeans(C2, centers2_pca, X_pca, k)\n",
    "    \n",
    "plt.figure()\n",
    "index1= [i for i in range(50)]\n",
    "plt.plot(index1, distortion)\n",
    "plt.xlabel('Iterations')\n",
    "plt.ylabel('Distortion')\n"
   ]
  },
  {
   "cell_type": "code",
   "execution_count": 94,
   "metadata": {
    "collapsed": false
   },
   "outputs": [],
   "source": [
    "def mini_batch(X, k, b, max_iter):\n",
    "    v = [0]*k\n",
    "    centers = random.sample(X, 3)\n",
    "    distortion = []\n",
    "  \n",
    "    for i in range(max_iter):\n",
    "        M = random.sample(X,b)\n",
    "        C=[0]*len(M)\n",
    "        for i,x in enumerate(M): \n",
    "            index = get_closest(x, centers)[0]\n",
    "            C[i] = index\n",
    "      \n",
    "        \n",
    "        for i, x in enumerate(M):\n",
    "            index = C[i]\n",
    "            v[index]+=1\n",
    "            n = 1/v[index]\n",
    "    \n",
    "            centers[index] = (1- n)*centers[index] + n*x\n",
    "        \n",
    "        D=[0]*len(X)\n",
    "        for i in range(len(X)): \n",
    "            index = get_closest(X[i], centers)[0]\n",
    "            D[i] = index\n",
    "        \n",
    "        D = np.array(D)\n",
    "        \n",
    "        distortion.append(k_means_objective(X, k, D, centers))\n",
    "\n",
    "            \n",
    "    return centers, distortion"
   ]
  },
  {
   "cell_type": "code",
   "execution_count": 95,
   "metadata": {
    "collapsed": true
   },
   "outputs": [],
   "source": [
    "def plot_kmeans(C,centers,X_pca,k):\n",
    "    \n",
    "    #choose random colour for the centroids\n",
    "    marker_c = [random.random() for y in range(3)]\n",
    "\n",
    "    for i in range(k):\n",
    "        \n",
    "            #plot data-points corresponding to a specific cluster\n",
    "            #with a random colour and plot the centroid of that \n",
    "            #cluster\n",
    "            \n",
    "            x = X_pca[C==i]\n",
    "            colour = [random.random() for c in range(3)]\n",
    "            plt.scatter(x[:,0],x[:,1], color=colour)\n",
    "            plt.scatter(centers[i][0], centers[i][1], marker='s', c = marker_c, s = 40)\n",
    "           "
   ]
  },
  {
   "cell_type": "code",
   "execution_count": 97,
   "metadata": {
    "collapsed": false
   },
   "outputs": [
    {
     "data": {
      "text/plain": [
       "<matplotlib.text.Text at 0x1089e3b10>"
      ]
     },
     "execution_count": 97,
     "metadata": {},
     "output_type": "execute_result"
    },
    {
     "data": {
      "image/png": "[encoded data removed]",
      "text/plain": [
       "<matplotlib.figure.Figure at 0x108f160d0>"
      ]
     },
     "metadata": {},
     "output_type": "display_data"
    },
    {
     "data": {
      "image/png": "[encoded data removed]",
      "text/plain": [
       "<matplotlib.figure.Figure at 0x10930a1d0>"
      ]
     },
     "metadata": {},
     "output_type": "display_data"
    }
   ],
   "source": [
    "%matplotlib inline\n",
    "from sklearn.datasets import load_iris\n",
    "import matplotlib.pyplot as plt\n",
    "import numpy as np\n",
    "import random\n",
    "from sklearn.decomposition import PCA\n",
    "from sklearn import preprocessing\n",
    "\n",
    "np.random.seed(12222015)\n",
    "\n",
    "iris = load_iris() \n",
    "X = iris.data\n",
    "Y = iris.target\n",
    "\n",
    "X_scaled = preprocessing.scale(X)\n",
    "\n",
    "k = 3 \n",
    "\n",
    "centers, distortion = mini_batch(X_scaled, k, 5, 100)\n",
    "\n",
    "C=[0]*len(X_scaled)\n",
    "for i in range(len(X_scaled)):\n",
    "    index = get_closest(X_scaled[i], centers)[0]\n",
    "    C[i] = index\n",
    "\n",
    "    \n",
    "C = np.array(C)\n",
    "        \n",
    "#use PCA to reduce the dimenions to 2(for plotting)\n",
    "pca = PCA(n_components=2)\n",
    "pca.fit(X_scaled)\n",
    "\n",
    "centers_pca = pca.transform(centers) \n",
    "X_pca = pca.transform(X_scaled) \n",
    "\n",
    "plot_kmeans(C, centers_pca, X_pca, k)\n",
    "\n",
    "plt.figure()\n",
    "index1= [i for i in range(100)]\n",
    "plt.plot(index1, distortion)\n",
    "plt.xlabel('Iterations')\n",
    "plt.ylabel('Distortion')\n"
   ]
  },
  {
   "cell_type": "code",
   "execution_count": null,
   "metadata": {
    "collapsed": true
   },
   "outputs": [],
   "source": []
  },
  {
   "cell_type": "code",
   "execution_count": null,
   "metadata": {
    "collapsed": true
   },
   "outputs": [],
   "source": []
  }
 ],
 "metadata": {
  "kernelspec": {
   "display_name": "Python 2",
   "language": "python",
   "name": "python2"
  },
  "language_info": {
   "codemirror_mode": {
    "name": "ipython",
    "version": 2
   },
   "file_extension": ".py",
   "mimetype": "text/x-python",
   "name": "python",
   "nbconvert_exporter": "python",
   "pygments_lexer": "ipython2",
   "version": "2.7.10"
  }
 },
 "nbformat": 4,
 "nbformat_minor": 0
}
