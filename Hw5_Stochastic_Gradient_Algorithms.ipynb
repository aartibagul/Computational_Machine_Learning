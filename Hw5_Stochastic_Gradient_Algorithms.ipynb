{
 "cells": [
  {
   "cell_type": "markdown",
   "metadata": {},
   "source": [
    "# Homework 5: Stochastic gradient algorithms#\n"
   ]
  },
  {
   "cell_type": "markdown",
   "metadata": {},
   "source": [
    "Link to homework - http://www.harchaoui.eu/zaid/teaching/nyu/fall2015/cml_hw5.pdf\n",
    "\n",
    "### 2) Linear Support Vector Machines ###"
   ]
  },
  {
   "cell_type": "code",
   "execution_count": 6,
   "metadata": {
    "collapsed": true
   },
   "outputs": [],
   "source": [
    "%matplotlib inline\n",
    "import numpy as np\n",
    "import matplotlib.pyplot as plt"
   ]
  },
  {
   "cell_type": "code",
   "execution_count": 36,
   "metadata": {
    "collapsed": false
   },
   "outputs": [
    {
     "data": {
      "text/plain": [
       "<matplotlib.text.Text at 0x10a9c8710>"
      ]
     },
     "execution_count": 36,
     "metadata": {},
     "output_type": "execute_result"
    },
    {
     "data": {
      "image/png": "[encoded data removed]",
      "text/plain": [
       "<matplotlib.figure.Figure at 0x10a9ecf50>"
      ]
     },
     "metadata": {},
     "output_type": "display_data"
    }
   ],
   "source": [
    "f_x = np.linspace(-4, 4, 100)\n",
    "\n",
    "\n",
    "def misclassification(f_x):\n",
    "    return [1 if i <= 0 else 0 for i in f_x ]\n",
    "\n",
    "def hinge(f_x):\n",
    "    #consider y (predicted value) = 1\n",
    "    return [np.max([0, 1-i]) for i in f_x ]\n",
    "\n",
    "def huber_hinge(f_x):\n",
    "    #again, y (predicted value) = 1, therefore, yt = f_x\n",
    "    loss = []\n",
    "    h = 0.5\n",
    "    for yt in f_x:\n",
    "        if yt > 1+h:\n",
    "            loss.append(0)\n",
    "        elif abs(1-yt) <= h:\n",
    "            loss.append(((1+h-yt)**2)/(4*h))\n",
    "        else:\n",
    "            loss.append(1-yt)\n",
    "    return loss\n",
    "\n",
    "plt.plot(f_x, misclassification(f_x), label = 'misclassification')\n",
    "plt.plot(f_x, hinge(f_x), label = 'hinge')\n",
    "plt.plot(f_x, huber_hinge(f_x), label = 'huber_hinge')\n",
    "\n",
    "plt.legend(loc=\"upper right\")\n",
    "plt.xlabel(\"f(x)\")\n",
    "plt.ylabel(\"Loss\")\n"
   ]
  },
  {
   "cell_type": "code",
   "execution_count": 9,
   "metadata": {
    "collapsed": false
   },
   "outputs": [],
   "source": [
    "\n"
   ]
  },
  {
   "cell_type": "code",
   "execution_count": null,
   "metadata": {
    "collapsed": true
   },
   "outputs": [],
   "source": []
  }
 ],
 "metadata": {
  "kernelspec": {
   "display_name": "Python 2",
   "language": "python",
   "name": "python2"
  },
  "language_info": {
   "codemirror_mode": {
    "name": "ipython",
    "version": 2
   },
   "file_extension": ".py",
   "mimetype": "text/x-python",
   "name": "python",
   "nbconvert_exporter": "python",
   "pygments_lexer": "ipython2",
   "version": "2.7.10"
  }
 },
 "nbformat": 4,
 "nbformat_minor": 0
}
