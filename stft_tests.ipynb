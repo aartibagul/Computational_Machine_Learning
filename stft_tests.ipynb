{
 "cells": [
  {
   "cell_type": "code",
   "execution_count": 11,
   "metadata": {
    "collapsed": true
   },
   "outputs": [],
   "source": [
    "%matplotlib inline\n",
    "import numpy as np\n",
    "import random\n",
    "from __future__ import division\n",
    "import wave, struct, numpy as np, matplotlib.mlab as mlab, pylab as pl\n",
    "import matplotlib.pyplot as plt\n",
    "import math"
   ]
  },
  {
   "cell_type": "code",
   "execution_count": 12,
   "metadata": {
    "collapsed": false
   },
   "outputs": [
    {
     "data": {
      "image/png": "[encoded data removed]",
      "text/plain": [
       "<matplotlib.figure.Figure at 0x111659780>"
      ]
     },
     "metadata": {},
     "output_type": "display_data"
    }
   ],
   "source": [
    "filename = \"CG.wav\"\n",
    "w = wave.open(filename,\"rb\")\n",
    "\n",
    "#returns a named tuple (nchannels, sampwidth, framerate, \n",
    "# nframes, comptype, compname)\n",
    "waveParams = w.getparams()\n",
    "\n",
    "s = w.readframes(waveParams[3])\n",
    "w.close()\n",
    "waveArray = np.fromstring(s, np.int16)\n",
    "\n",
    "pl.figure()\n",
    "pl.plot(waveArray)\n",
    "\n",
    "spectrum, freq, bins = mlab.specgram(waveArray, NFFT=256,Fs=waveParams[2],sides='onesided')\n",
    "\n"
   ]
  },
  {
   "cell_type": "code",
   "execution_count": 99,
   "metadata": {
    "collapsed": false
   },
   "outputs": [],
   "source": [
    "# calculates and returns spectrogram of \n",
    "def get_wave(filename):\n",
    "    w = wave.open(filename,\"rb\")\n",
    "    waveParams = w.getparams()\n",
    "    s = w.readframes(waveParams[3])\n",
    "    w.close()\n",
    "    waveArray = np.fromstring(s, np.int16)\n",
    "    return waveArray\n",
    "\n",
    "# power spectrogram is the absolute value SQUARED of the stft\n",
    "def get_sepctrogram(stft):\n",
    "    return abs(stft)**2\n",
    "\n",
    "# takes in wave file as input\n",
    "# win_size is the length of the window in samples\n",
    "# overlap is the amount of overlap between windows in samples\n",
    "def my_stft(wave, win_size, overlap):\n",
    "    # power sinbell analysis window\n",
    "    win = power_sinebell(win_size, overlap)\n",
    "    # make the frames\n",
    "    frames, wave_pad = make_frames(wave, win, overlap)\n",
    "    # fft, row-wise\n",
    "    stft = np.fft.fft(frames)\n",
    "    print(stft.shape)\n",
    "    print(frames.shape)\n",
    "    # keep the spectrum associated with the positive frequencies (potentially times to the upper frequencies)\n",
    "    if len(win)%2 == 0:\n",
    "        stft = stft[:len(win)/2]\n",
    "    else:\n",
    "        stft = stft[:(len(win)-1)/2]\n",
    "    return stft\n",
    "    \n",
    "# create sinebell window of length win_size, with overlap, DONE\n",
    "def sinebell(win_size, overlap):\n",
    "    win = np.zeros(win_size)\n",
    "    win[0:overlap] = np.sin( math.pi * (np.array([i for i in range(overlap)])) / (2*overlap) )\n",
    "    win[overlap : win_size - overlap] = 1\n",
    "    win[win_size - overlap:] = np.sin( math.pi * (win_size - np.array([i for i in range(win_size-overlap, win_size)]) - 1 ) / (2*overlap) )\n",
    "    return win\n",
    "\n",
    "# computes sinebell window with smooth edges, this should be an improvement\n",
    "def power_sinebell(win_size, overlap):\n",
    "    win = np.zeros(win_size)\n",
    "    win[0:overlap] = np.sin( math.pi * (np.array([i for i in range(overlap)])) / (2*overlap) )**2\n",
    "    win[overlap : win_size - overlap] = 1\n",
    "    win[win_size - overlap:] = np.sin( math.pi * (win_size - np.array([i for i in range(win_size-overlap, win_size)]) - 1 ) / (2*overlap) )**2\n",
    "    return win\n",
    "\n",
    "# x is the input signal, win is the analysis window, overlap\n",
    "# returns frame matrix and padded input signal x_pad\n",
    "def make_frames(x, win, overlap):\n",
    "    win_len = win.shape[0]\n",
    "    x_len = len(x)\n",
    "    \n",
    "    # number of frames\n",
    "    num_frames = int(np.ceil((x_len + overlap)/(win_len - overlap)))\n",
    "    \n",
    "    # initializing zero padded signal\n",
    "    pad_len = overlap + num_frames *(win_len - overlap)\n",
    "\n",
    "    x_pad = np.zeros(pad_len)\n",
    "    x_pad[overlap: overlap + x_len] = x\n",
    "    \n",
    "    # index of beginning of each frame in x_pad\n",
    "    frame_ind = np.array([i for i in range(num_frames)]) * (win_len - overlap)\n",
    "    \n",
    "    # initialize frames matrix\n",
    "    frames = np.zeros((win_size, num_frames))\n",
    "    for i in range(num_frames):\n",
    "        frames[:,i] = (x_pad[frame_ind[i] : frame_ind[i] + win_size] * win)\n",
    "    \n",
    "    return frames, x_pad\n",
    "    \n",
    "def my_istft(stft):\n",
    "    print(hi)"
   ]
  },
  {
   "cell_type": "code",
   "execution_count": 100,
   "metadata": {
    "collapsed": false
   },
   "outputs": [
    {
     "data": {
      "text/plain": [
       "[<matplotlib.lines.Line2D at 0x1181519e8>,\n",
       " <matplotlib.lines.Line2D at 0x118151d30>]"
      ]
     },
     "execution_count": 100,
     "metadata": {},
     "output_type": "execute_result"
    },
    {
     "data": {
      "image/png": "[encoded data removed]",
      "text/plain": [
       "<matplotlib.figure.Figure at 0x117ce4a20>"
      ]
     },
     "metadata": {},
     "output_type": "display_data"
    }
   ],
   "source": [
    "# pretty sinebell window\n",
    "win_size = 256\n",
    "overlap = 64\n",
    "win = sinebell(win_size, overlap)\n",
    "pwin = power_sinebell(win_size, overlap)\n",
    "plt.plot([i for i in range(win_size)], win, [i for i in range(win_size)], pwin)"
   ]
  },
  {
   "cell_type": "code",
   "execution_count": 101,
   "metadata": {
    "collapsed": true
   },
   "outputs": [],
   "source": [
    "# filenames = \"CML_Recording_Both.wav\", \"CG.wav\"\n",
    "wave_arr = get_wave(\"CG.wav\")\n"
   ]
  },
  {
   "cell_type": "code",
   "execution_count": 102,
   "metadata": {
    "collapsed": false
   },
   "outputs": [],
   "source": [
    "frames, x_pad = make_frames(wave_arr, pwin, overlap)"
   ]
  },
  {
   "cell_type": "code",
   "execution_count": 103,
   "metadata": {
    "collapsed": false
   },
   "outputs": [
    {
     "name": "stdout",
     "output_type": "stream",
     "text": [
      "(135828,)\n",
      "(256, 708)\n",
      "(136000,)\n"
     ]
    }
   ],
   "source": [
    "print(wave_arr.shape)\n",
    "print(frames.shape)\n",
    "print(x_pad.shape)"
   ]
  },
  {
   "cell_type": "code",
   "execution_count": null,
   "metadata": {
    "collapsed": true
   },
   "outputs": [],
   "source": [
    "\n"
   ]
  }
 ],
 "metadata": {
  "kernelspec": {
   "display_name": "Python 3",
   "language": "python",
   "name": "python3"
  },
  "language_info": {
   "codemirror_mode": {
    "name": "ipython",
    "version": 3
   },
   "file_extension": ".py",
   "mimetype": "text/x-python",
   "name": "python",
   "nbconvert_exporter": "python",
   "pygments_lexer": "ipython3",
   "version": "3.4.3"
  }
 },
 "nbformat": 4,
 "nbformat_minor": 0
}
